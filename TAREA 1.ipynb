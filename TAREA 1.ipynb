{
 "cells": [
  {
   "cell_type": "markdown",
   "metadata": {},
   "source": [
    "### 1.- Escribe un programa que pida la edad del usuario e imprima en pantalla la edad que tendrá en el año 2050. \n"
   ]
  },
  {
   "cell_type": "code",
   "execution_count": 3,
   "metadata": {},
   "outputs": [
    {
     "name": "stdout",
     "output_type": "stream",
     "text": [
      "Cuál es tu edad?: 25\n",
      "que año es?: 2019\n",
      "calcular tu edad en el año: 2050\n",
      "56\n"
     ]
    }
   ],
   "source": [
    "edad_actual = int(input( \"Cuál es tu edad?: \"))\n",
    "anio_actual = int(input(\"que año es?: \"))\n",
    "anio_new=int(input(\"calcular tu edad en el año: \"))\n",
    "edad_new = edad_actual+(anio_new-anio_actual)\n",
    "print(edad_new)"
   ]
  },
  {
   "cell_type": "markdown",
   "metadata": {},
   "source": [
    "### 2.Dada una lista de números, escribe un programa que pida al usuario un número e imprima True si el número que el usuario ingresa está en la lista, o False si no lo está\n",
    "\n",
    "lista_numeros = [1,2,5,7,6,8,11,33,54,67,33,66,23,76,88,45,22]\n"
   ]
  },
  {
   "cell_type": "code",
   "execution_count": 13,
   "metadata": {},
   "outputs": [
    {
     "name": "stdout",
     "output_type": "stream",
     "text": [
      "Número que quieres buscar en la lista: 2\n",
      "El número se encuentra en la list True\n"
     ]
    }
   ],
   "source": [
    "lista_numeros = [1,2,5,7,6,8,11,33,54,67,33,66,23,76,88,45,22]\n",
    "num = int(input(\"Número que quieres buscar en la lista: \"))\n",
    "aux = num in lista_numeros \n",
    "print(\"El número se encuentra en la list\",aux)"
   ]
  },
  {
   "cell_type": "markdown",
   "metadata": {},
   "source": [
    "### 3. Escribe un programa que le pida al usuario el nombre de sus dos mejores amigos y después imprima un saludo a cada uno de estos amigos\n"
   ]
  },
  {
   "cell_type": "code",
   "execution_count": 19,
   "metadata": {},
   "outputs": [
    {
     "name": "stdout",
     "output_type": "stream",
     "text": [
      "Dame el nombre de uno de tus mejores amigos: Luisen\n",
      "Dame el nombre de otro mejor amigo: Fer\n",
      " Hola Luisen y Fer ! :D\n"
     ]
    }
   ],
   "source": [
    "bff_one=str(input(\"Dame el nombre de uno de tus mejores amigos: \"))\n",
    "bff_two=str(input(\"Dame el nombre de otro mejor amigo: \"))\n",
    "print(\" Hola\", bff_one, \"y\", bff_two,\"! :D\")"
   ]
  },
  {
   "cell_type": "markdown",
   "metadata": {},
   "source": [
    "###  4. Escribe un programa que pida al usuario que ingrese un caracter (o sea, -, !, ., +,etc.) y un número entero. Posteriormente, imprime en pantalla el caracter que dio el usuario repetidas $N$ veces. $N$ siendo el número entero que dio el usuario. Ejemplo:\n",
    "\n",
    "$$char \\rightarrow \\text{'*'}$$$$N \\rightarrow 14$$$$\\text{**************}$$\n"
   ]
  },
  {
   "cell_type": "code",
   "execution_count": 48,
   "metadata": {},
   "outputs": [
    {
     "name": "stdout",
     "output_type": "stream",
     "text": [
      "escribe un caracter: -\n",
      "número de veces que quieres repetirlo: 4\n"
     ]
    },
    {
     "ename": "TypeError",
     "evalue": "'str' object is not callable",
     "output_type": "error",
     "traceback": [
      "\u001b[0;31m---------------------------------------------------------------------------\u001b[0m",
      "\u001b[0;31mTypeError\u001b[0m                                 Traceback (most recent call last)",
      "\u001b[0;32m<ipython-input-48-7f18974aa6a4>\u001b[0m in \u001b[0;36m<module>\u001b[0;34m\u001b[0m\n\u001b[1;32m      2\u001b[0m \u001b[0mnumero\u001b[0m\u001b[0;34m=\u001b[0m\u001b[0mint\u001b[0m\u001b[0;34m(\u001b[0m\u001b[0minput\u001b[0m\u001b[0;34m(\u001b[0m\u001b[0;34m\"número de veces que quieres repetirlo: \"\u001b[0m\u001b[0;34m)\u001b[0m\u001b[0;34m)\u001b[0m\u001b[0;34m\u001b[0m\u001b[0;34m\u001b[0m\u001b[0m\n\u001b[1;32m      3\u001b[0m \u001b[0maux\u001b[0m \u001b[0;34m=\u001b[0m \u001b[0melement\u001b[0m\u001b[0;34m*\u001b[0m\u001b[0mnumero\u001b[0m\u001b[0;34m\u001b[0m\u001b[0;34m\u001b[0m\u001b[0m\n\u001b[0;32m----> 4\u001b[0;31m \u001b[0mprint\u001b[0m\u001b[0;34m(\u001b[0m\u001b[0maux\u001b[0m\u001b[0;34m)\u001b[0m\u001b[0;34m\u001b[0m\u001b[0;34m\u001b[0m\u001b[0m\n\u001b[0m",
      "\u001b[0;31mTypeError\u001b[0m: 'str' object is not callable"
     ]
    }
   ],
   "source": [
    "element = str(input(\"escribe un caracter: \"))\n",
    "numero=int(input(\"número de veces que quieres repetirlo: \"))\n",
    "aux = element*numero\n",
    "print(aux)"
   ]
  },
  {
   "cell_type": "markdown",
   "metadata": {},
   "source": [
    "### 5.  Escribe un programa que pida al usuario su año, mes y día de nacimiento (por separado) y posteriormente imprime su fecha de nacimiento en un solo renglón. Ejemplo:\n",
    "\n",
    "$$anio \\rightarrow 1991$$$$mes \\rightarrow \\text{febrero}$$$$dia \\rightarrow 10$$$$\\text{Naciste el 10 de febrero de 1991}$$"
   ]
  },
  {
   "cell_type": "code",
   "execution_count": 49,
   "metadata": {},
   "outputs": [
    {
     "name": "stdout",
     "output_type": "stream",
     "text": [
      "en que año naciste?: 1\n",
      "en que mes naciste?: 1\n",
      "en que dia naciste?: \n"
     ]
    },
    {
     "ename": "TypeError",
     "evalue": "'str' object is not callable",
     "output_type": "error",
     "traceback": [
      "\u001b[0;31m---------------------------------------------------------------------------\u001b[0m",
      "\u001b[0;31mTypeError\u001b[0m                                 Traceback (most recent call last)",
      "\u001b[0;32m<ipython-input-49-34f3777a9c2f>\u001b[0m in \u001b[0;36m<module>\u001b[0;34m\u001b[0m\n\u001b[1;32m      2\u001b[0m \u001b[0mmes\u001b[0m\u001b[0;34m=\u001b[0m \u001b[0minput\u001b[0m\u001b[0;34m(\u001b[0m\u001b[0;34m\"en que mes naciste?: \"\u001b[0m\u001b[0;34m)\u001b[0m\u001b[0;34m\u001b[0m\u001b[0;34m\u001b[0m\u001b[0m\n\u001b[1;32m      3\u001b[0m \u001b[0mdia\u001b[0m\u001b[0;34m=\u001b[0m \u001b[0minput\u001b[0m\u001b[0;34m(\u001b[0m\u001b[0;34m\"en que dia naciste?: \"\u001b[0m\u001b[0;34m)\u001b[0m\u001b[0;34m\u001b[0m\u001b[0;34m\u001b[0m\u001b[0m\n\u001b[0;32m----> 4\u001b[0;31m \u001b[0mprint\u001b[0m\u001b[0;34m(\u001b[0m\u001b[0;34m\"Naciste el\"\u001b[0m\u001b[0;34m,\u001b[0m\u001b[0mdia\u001b[0m\u001b[0;34m,\u001b[0m\u001b[0;34m\"de\"\u001b[0m\u001b[0;34m,\u001b[0m\u001b[0mmes\u001b[0m\u001b[0;34m,\u001b[0m\u001b[0;34m\"de\"\u001b[0m\u001b[0;34m,\u001b[0m\u001b[0manio\u001b[0m\u001b[0;34m)\u001b[0m\u001b[0;34m\u001b[0m\u001b[0;34m\u001b[0m\u001b[0m\n\u001b[0m",
      "\u001b[0;31mTypeError\u001b[0m: 'str' object is not callable"
     ]
    }
   ],
   "source": [
    "anio= input(\"en que año naciste?: \")\n",
    "mes= input(\"en que mes naciste?: \")\n",
    "dia= input(\"en que dia naciste?: \")\n",
    "print(\"Naciste el\",dia,\"de\",mes,\"de\",anio)"
   ]
  },
  {
   "cell_type": "code",
   "execution_count": null,
   "metadata": {},
   "outputs": [],
   "source": []
  },
  {
   "cell_type": "code",
   "execution_count": null,
   "metadata": {},
   "outputs": [],
   "source": []
  }
 ],
 "metadata": {
  "kernelspec": {
   "display_name": "Python 3",
   "language": "python",
   "name": "python3"
  },
  "language_info": {
   "codemirror_mode": {
    "name": "ipython",
    "version": 3
   },
   "file_extension": ".py",
   "mimetype": "text/x-python",
   "name": "python",
   "nbconvert_exporter": "python",
   "pygments_lexer": "ipython3",
   "version": "3.7.4"
  }
 },
 "nbformat": 4,
 "nbformat_minor": 2
}
