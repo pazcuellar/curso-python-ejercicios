{
 "cells": [
  {
   "cell_type": "markdown",
   "metadata": {},
   "source": [
    "# Numpy\n",
    "## Ejercicios prácticos\n",
    "\n",
    "---\n",
    "### Escribe código Python con Numpy para realizar las siguientes operaciones:\n",
    "#### 1. Determinar si ninguno de los elementos de un arreglo es cero.\n",
    "#### 2. Determinar si un arreglo contiene algún elemnto que no sea cero.\n",
    "#### 3. Analizar un arreglo de numpy y determinar en sus elementos si existen valores que sean infinitos o valores no numéricos (NaN).\n",
    "#### 4. Determinar si un arreglo de Numpy contiene valores infinitos.\n",
    "#### 5. Analizar un arreglo de Numpy y determinar si hay valores NaN\n",
    "#### 6. Realizar una comparación elemento a elemento de dos arreglos. Contempla mayor, mayor o igual, menor y menor o igual.\n",
    "#### 7. Crear un arreglo que contenga los valores 1, 7, 13 y 105, y posteriormente determinar la cantidad de memoria que ocupa el arreglo.\n",
    "#### 8. Crear un arreglo de 10 ceros; uno de 10 unos; y uno de 10 cincos.\n",
    "#### 9. Crear un arreglo que contenga todos los números enteros entre 30 y 70.\n",
    "#### 10. Crear un arreglo que contenga los números pares entre 30 y 70\n",
    "#### 11. Crear una [matriz identidad](https://es.wikipedia.org/wiki/Matriz_identidad) de 3x3\n",
    "#### 12. Generar un número aleatorio entre 0 y 1\n",
    "#### 13. Crear un arreglo de 15 números aleatorios tomados de una distribución normal estándar.\n",
    "#### 14. Crear un arreglo con valores que estén entre 15 y 55, e imprimir todos los valores de éste excepto el primero y el último.\n",
    "#### 15. Crear un vector (arreglo) de longitud 10 con valores distribuidos equitativamente entre 5 y 50.\n",
    "#### 16. Crear un vector con valores de 0 a 20, y cambiar el signo de los números de 9 a 15.\n",
    "#### 17. Convertir un arreglo de Numpy a una lista\n",
    "#### 18. Convertir una lista a un arreglo de Numpy\n",
    "#### 19. Verificar los números pares que existen en una matriz y almacenar en otra matriz los resultados de esta comparación lógica,\n",
    "#### 20. Encontrar el número de renglones y columnas de una matriz."
   ]
  },
  {
   "cell_type": "code",
   "execution_count": null,
   "metadata": {},
   "outputs": [],
   "source": []
  }
 ],
 "metadata": {
  "kernelspec": {
   "display_name": "Python 3",
   "language": "python",
   "name": "python3"
  },
  "language_info": {
   "codemirror_mode": {
    "name": "ipython",
    "version": 3
   },
   "file_extension": ".py",
   "mimetype": "text/x-python",
   "name": "python",
   "nbconvert_exporter": "python",
   "pygments_lexer": "ipython3",
   "version": "3.6.8"
  }
 },
 "nbformat": 4,
 "nbformat_minor": 2
}
