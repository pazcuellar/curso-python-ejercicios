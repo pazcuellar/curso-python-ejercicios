{
 "cells": [
  {
   "cell_type": "markdown",
   "metadata": {},
   "source": [
    "## Diccionarios\n",
    "Un diccionario mapea o relaciona un conjunto de objetos a otro coonjunto de objetos. Esto no cambia en Python. Un diccionario es una estructura de datos que contiene valores únicos (llaves) a un objeto en específico (valor). Los diccionarios son estructuras mutables, lo cual significa que podemos cambiar sus llaves y valores. Ejemplo gráfico de un diccionario:\n",
    "\n",
    "| código | nombre completo |\n",
    "|--------|-----------------|\n",
    "| AUS    | Australia       |\n",
    "| COL    | Colombia        |\n",
    "| DNK    | Dinamarca       |\n",
    "| MEX    | México          |\n",
    "| PAK    | Pakistán        |\n",
    "| RUS    | Rusia           |\n",
    "\n",
    "En este caso, tenemos una llave que se llama `código` y cada llave tiene un valor asiciado `nombre completo`. Por lo tanto, si queremos saber cuál es el valor asociado a la llave `COL`, únicamente tenemoso que consultar nuestra tabla para saber que el valor es `Colombia`.\n",
    "\n",
    "Los diccionario se caracterizan por su uso de llaves `{ }` en lugar de corchetes o paréntesis"
   ]
  },
  {
   "cell_type": "code",
   "execution_count": 2,
   "metadata": {},
   "outputs": [
    {
     "data": {
      "text/plain": [
       "{}"
      ]
     },
     "execution_count": 2,
     "metadata": {},
     "output_type": "execute_result"
    }
   ],
   "source": [
    "#Crear un diccionario vacío\n",
    "diccionario = {}\n",
    "diccionario"
   ]
  },
  {
   "cell_type": "code",
   "execution_count": 3,
   "metadata": {},
   "outputs": [
    {
     "data": {
      "text/plain": [
       "{'AUS': 'Australia',\n",
       " 'COL': 'Colombia',\n",
       " 'DNK': 'Dinamarca',\n",
       " 'MEX': 'México',\n",
       " 'PAK': 'Pakistán',\n",
       " 'RUS': 'Rusia'}"
      ]
     },
     "execution_count": 3,
     "metadata": {},
     "output_type": "execute_result"
    }
   ],
   "source": [
    "#Crear diccionario con valores\n",
    "diccionario = {\n",
    "    \"AUS\": \"Australia\",\n",
    "    \"COL\": \"Colombia\",\n",
    "    \"DNK\" : \"Dinamarca\",\n",
    "    \"MEX\" : \"México\",\n",
    "    \"PAK\" : \"Pakistán\",\n",
    "    \"RUS\" : \"Rusia\",\n",
    "}\n",
    "diccionario"
   ]
  },
  {
   "cell_type": "markdown",
   "metadata": {},
   "source": [
    "Como podemos ver, los diccionarios se crean de la forma\n",
    "\n",
    "~~~~python\n",
    "nombre_diccionario = { llave1 : valor1, llave2 : valor2, llave3 : valor3 }\n",
    "~~~~"
   ]
  },
  {
   "cell_type": "markdown",
   "metadata": {},
   "source": [
    "#### Acceder a los valores a través de la llave"
   ]
  },
  {
   "cell_type": "code",
   "execution_count": 4,
   "metadata": {},
   "outputs": [
    {
     "data": {
      "text/plain": [
       "'Colombia'"
      ]
     },
     "execution_count": 4,
     "metadata": {},
     "output_type": "execute_result"
    }
   ],
   "source": [
    "diccionario['COL']"
   ]
  },
  {
   "cell_type": "code",
   "execution_count": 5,
   "metadata": {},
   "outputs": [
    {
     "data": {
      "text/plain": [
       "'México'"
      ]
     },
     "execution_count": 5,
     "metadata": {},
     "output_type": "execute_result"
    }
   ],
   "source": [
    "diccionario['MEX']"
   ]
  },
  {
   "cell_type": "code",
   "execution_count": 6,
   "metadata": {},
   "outputs": [
    {
     "data": {
      "text/plain": [
       "'Rusia'"
      ]
     },
     "execution_count": 6,
     "metadata": {},
     "output_type": "execute_result"
    }
   ],
   "source": [
    "diccionario['RUS']"
   ]
  },
  {
   "cell_type": "code",
   "execution_count": 7,
   "metadata": {},
   "outputs": [
    {
     "ename": "KeyError",
     "evalue": "'USA'",
     "output_type": "error",
     "traceback": [
      "\u001b[0;31m---------------------------------------------------------------------------\u001b[0m",
      "\u001b[0;31mKeyError\u001b[0m                                  Traceback (most recent call last)",
      "\u001b[0;32m<ipython-input-7-cabaef2911fa>\u001b[0m in \u001b[0;36m<module>\u001b[0;34m\u001b[0m\n\u001b[0;32m----> 1\u001b[0;31m \u001b[0mdiccionario\u001b[0m\u001b[0;34m[\u001b[0m\u001b[0;34m'USA'\u001b[0m\u001b[0;34m]\u001b[0m\u001b[0;34m\u001b[0m\u001b[0;34m\u001b[0m\u001b[0m\n\u001b[0m",
      "\u001b[0;31mKeyError\u001b[0m: 'USA'"
     ]
    }
   ],
   "source": [
    "diccionario['USA']"
   ]
  },
  {
   "cell_type": "markdown",
   "metadata": {},
   "source": [
    "#### Agregar un nuevo valor"
   ]
  },
  {
   "cell_type": "code",
   "execution_count": 8,
   "metadata": {},
   "outputs": [],
   "source": [
    "diccionario['USA'] = \"Estados Unidos\""
   ]
  },
  {
   "cell_type": "code",
   "execution_count": 9,
   "metadata": {},
   "outputs": [
    {
     "data": {
      "text/plain": [
       "'Estados Unidos'"
      ]
     },
     "execution_count": 9,
     "metadata": {},
     "output_type": "execute_result"
    }
   ],
   "source": [
    "diccionario['USA']"
   ]
  },
  {
   "cell_type": "markdown",
   "metadata": {},
   "source": [
    "#### Reemplazar/Editar un valor"
   ]
  },
  {
   "cell_type": "code",
   "execution_count": 10,
   "metadata": {},
   "outputs": [
    {
     "data": {
      "text/plain": [
       "'México'"
      ]
     },
     "execution_count": 10,
     "metadata": {},
     "output_type": "execute_result"
    }
   ],
   "source": [
    "diccionario['MEX']"
   ]
  },
  {
   "cell_type": "code",
   "execution_count": 11,
   "metadata": {},
   "outputs": [
    {
     "data": {
      "text/plain": [
       "'Estados Unidos Mexicanos'"
      ]
     },
     "execution_count": 11,
     "metadata": {},
     "output_type": "execute_result"
    }
   ],
   "source": [
    "diccionario['MEX'] = \"Estados Unidos Mexicanos\"\n",
    "diccionario['MEX']"
   ]
  },
  {
   "cell_type": "markdown",
   "metadata": {},
   "source": [
    "#### Eliminar una llave y su valor"
   ]
  },
  {
   "cell_type": "code",
   "execution_count": 12,
   "metadata": {},
   "outputs": [],
   "source": [
    "del diccionario['MEX']"
   ]
  },
  {
   "cell_type": "code",
   "execution_count": 13,
   "metadata": {},
   "outputs": [
    {
     "ename": "KeyError",
     "evalue": "'MEX'",
     "output_type": "error",
     "traceback": [
      "\u001b[0;31m---------------------------------------------------------------------------\u001b[0m",
      "\u001b[0;31mKeyError\u001b[0m                                  Traceback (most recent call last)",
      "\u001b[0;32m<ipython-input-13-a9cf362df2a7>\u001b[0m in \u001b[0;36m<module>\u001b[0;34m\u001b[0m\n\u001b[0;32m----> 1\u001b[0;31m \u001b[0mdiccionario\u001b[0m\u001b[0;34m[\u001b[0m\u001b[0;34m'MEX'\u001b[0m\u001b[0;34m]\u001b[0m\u001b[0;34m\u001b[0m\u001b[0;34m\u001b[0m\u001b[0m\n\u001b[0m",
      "\u001b[0;31mKeyError\u001b[0m: 'MEX'"
     ]
    }
   ],
   "source": [
    "diccionario['MEX']"
   ]
  },
  {
   "cell_type": "markdown",
   "metadata": {},
   "source": [
    "#### Longitud (tamaño) del diccionario"
   ]
  },
  {
   "cell_type": "code",
   "execution_count": 14,
   "metadata": {},
   "outputs": [
    {
     "data": {
      "text/plain": [
       "6"
      ]
     },
     "execution_count": 14,
     "metadata": {},
     "output_type": "execute_result"
    }
   ],
   "source": [
    "len(diccionario)"
   ]
  },
  {
   "cell_type": "markdown",
   "metadata": {},
   "source": [
    "#### Checar si el diccionario contiene una llave"
   ]
  },
  {
   "cell_type": "code",
   "execution_count": 15,
   "metadata": {},
   "outputs": [
    {
     "data": {
      "text/plain": [
       "False"
      ]
     },
     "execution_count": 15,
     "metadata": {},
     "output_type": "execute_result"
    }
   ],
   "source": [
    "'MEX' in diccionario"
   ]
  },
  {
   "cell_type": "code",
   "execution_count": 16,
   "metadata": {},
   "outputs": [
    {
     "data": {
      "text/plain": [
       "True"
      ]
     },
     "execution_count": 16,
     "metadata": {},
     "output_type": "execute_result"
    }
   ],
   "source": [
    "'USA' in diccionario"
   ]
  },
  {
   "cell_type": "markdown",
   "metadata": {},
   "source": [
    "#### Ver todas las llaves"
   ]
  },
  {
   "cell_type": "code",
   "execution_count": 17,
   "metadata": {},
   "outputs": [
    {
     "data": {
      "text/plain": [
       "dict_keys(['AUS', 'COL', 'DNK', 'PAK', 'RUS', 'USA'])"
      ]
     },
     "execution_count": 17,
     "metadata": {},
     "output_type": "execute_result"
    }
   ],
   "source": [
    "diccionario.keys()"
   ]
  },
  {
   "cell_type": "markdown",
   "metadata": {},
   "source": [
    "## Lista de diccionarios\n",
    "\n",
    "Podemos usar un diccionario para estructurar entidades fácilmente. Pensemos en una persona: una persona tiene nombre, apellidos, edad, estado civil y ocupación. Podemos _modelar_ esta entidad con un diccionario\n",
    "\n",
    "~~~~python\n",
    "{\n",
    "    \"nombre\" : \"Andrés Manuel\",\n",
    "    \"apellidos\" : \"López Obrador\",\n",
    "    \"edad\": 65,\n",
    "    \"estado_civil\" : \"casado\"\n",
    "    \"ocupacion\" : \"Presidente de México\"\n",
    "}\n",
    "~~~~"
   ]
  },
  {
   "cell_type": "markdown",
   "metadata": {},
   "source": [
    "En Python los objetos de una lista son arbitrarios... entonces podemos 'meter' un diccionario a una lista. Imaginen este escenario:\n",
    "~~~~python\n",
    "lista = [dicc1, dicc2, dicc3, dicc4, ..., diccN]\n",
    "~~~~\n",
    "\n",
    "dicc1 a diccN podrían ser personas (o cualquier entidad) como lo definimos arriba\n",
    "~~~~python\n",
    "personas = [persona1, persona2, persona3, persona4, ..., personaN]\n",
    "~~~~"
   ]
  },
  {
   "cell_type": "code",
   "execution_count": 19,
   "metadata": {},
   "outputs": [],
   "source": [
    "persona1 = {\n",
    "    \"nombre\" : \"Andrés Manuel\",\n",
    "    \"apellidos\" : \"López Obrador\",\n",
    "    \"edad\": 65,\n",
    "    \"estado_civil\" : \"casado\",\n",
    "    \"ocupacion\" : \"Presidente de México\"\n",
    "}\n",
    "persona2 = {\n",
    "    \"nombre\" : \"Gerardo\",\n",
    "    \"apellidos\" : \"Mathus\",\n",
    "    \"edad\": 25,\n",
    "    \"estado_civil\" : \"Soltero\",\n",
    "    \"ocupacion\" : \"Arquitecto de Software\"\n",
    "}\n",
    "persona3 = {\n",
    "    \"nombre\" : \"Alejandra\",\n",
    "    \"apellidos\" : \"Gómez Sandoval\",\n",
    "    \"edad\": 24,\n",
    "    \"estado_civil\" : \"soltera\",\n",
    "    \"ocupacion\" : \"Nutrióloga\"\n",
    "}"
   ]
  },
  {
   "cell_type": "code",
   "execution_count": 20,
   "metadata": {},
   "outputs": [
    {
     "data": {
      "text/plain": [
       "'Alejandra'"
      ]
     },
     "execution_count": 20,
     "metadata": {},
     "output_type": "execute_result"
    }
   ],
   "source": [
    "persona3['nombre']"
   ]
  },
  {
   "cell_type": "code",
   "execution_count": 21,
   "metadata": {},
   "outputs": [],
   "source": [
    "#Ahora agregamos estos diccionarios a una lista\n",
    "personas = [persona1, persona2, persona3]"
   ]
  },
  {
   "cell_type": "code",
   "execution_count": 22,
   "metadata": {},
   "outputs": [
    {
     "data": {
      "text/plain": [
       "{'nombre': 'Andrés Manuel',\n",
       " 'apellidos': 'López Obrador',\n",
       " 'edad': 65,\n",
       " 'estado_civil': 'casado',\n",
       " 'ocupacion': 'Presidente de México'}"
      ]
     },
     "execution_count": 22,
     "metadata": {},
     "output_type": "execute_result"
    }
   ],
   "source": [
    "personas[0]"
   ]
  },
  {
   "cell_type": "code",
   "execution_count": 23,
   "metadata": {},
   "outputs": [
    {
     "data": {
      "text/plain": [
       "{'nombre': 'Gerardo',\n",
       " 'apellidos': 'Mathus',\n",
       " 'edad': 25,\n",
       " 'estado_civil': 'Soltero',\n",
       " 'ocupacion': 'Arquitecto de Software'}"
      ]
     },
     "execution_count": 23,
     "metadata": {},
     "output_type": "execute_result"
    }
   ],
   "source": [
    "personas[1]"
   ]
  },
  {
   "cell_type": "code",
   "execution_count": 24,
   "metadata": {},
   "outputs": [
    {
     "data": {
      "text/plain": [
       "{'nombre': 'Alejandra',\n",
       " 'apellidos': 'Gómez Sandoval',\n",
       " 'edad': 24,\n",
       " 'estado_civil': 'soltera',\n",
       " 'ocupacion': 'Nutrióloga'}"
      ]
     },
     "execution_count": 24,
     "metadata": {},
     "output_type": "execute_result"
    }
   ],
   "source": [
    "personas[2]"
   ]
  },
  {
   "cell_type": "markdown",
   "metadata": {},
   "source": [
    "#### Obtener el nombre y la edad de la persona en el índice 2 de la lista"
   ]
  },
  {
   "cell_type": "code",
   "execution_count": 25,
   "metadata": {},
   "outputs": [
    {
     "name": "stdout",
     "output_type": "stream",
     "text": [
      "Nombre: Alejandra \n",
      "Edad: 24\n"
     ]
    }
   ],
   "source": [
    "print(\"Nombre:\", personas[2]['nombre'], \"\\nEdad:\", personas[2]['edad'])"
   ]
  },
  {
   "cell_type": "markdown",
   "metadata": {},
   "source": [
    "#### Un pequeño truco\n",
    "Todo string tiene (además de muchas otras) un método `format()` que permite formatear el texto a formar"
   ]
  },
  {
   "cell_type": "code",
   "execution_count": 28,
   "metadata": {},
   "outputs": [],
   "source": [
    "persona = personas[2]\n",
    "#la variable persona ahora es el diccionario que corresponder a Alejandra Gomez Sandoval\n",
    "mi_string = \"Nombre: {} {}\\nEdad: {} años\".format(persona['nombre'], persona['apellidos'], persona['edad'])"
   ]
  },
  {
   "cell_type": "code",
   "execution_count": 29,
   "metadata": {},
   "outputs": [
    {
     "name": "stdout",
     "output_type": "stream",
     "text": [
      "Nombre: Alejandra Gómez Sandoval\n",
      "Edad: 24 años\n"
     ]
    }
   ],
   "source": [
    "print(mi_string)"
   ]
  },
  {
   "cell_type": "markdown",
   "metadata": {},
   "source": [
    "Las llaves adentro del string que famos a formatear son `placeholders` o `indicadores`. Estos los reemplazamos después con los argumentos que le pasamos al método `format()`"
   ]
  },
  {
   "cell_type": "code",
   "execution_count": 40,
   "metadata": {},
   "outputs": [],
   "source": [
    "s = \"{}----------->{}---------->{}\".format(\"primer argumento\", persona['ocupacion'], \"el último argumento\")"
   ]
  },
  {
   "cell_type": "code",
   "execution_count": 41,
   "metadata": {},
   "outputs": [
    {
     "data": {
      "text/plain": [
       "'primer argumento----------->Nutrióloga---------->el último argumento'"
      ]
     },
     "execution_count": 41,
     "metadata": {},
     "output_type": "execute_result"
    }
   ],
   "source": [
    "s"
   ]
  },
  {
   "cell_type": "markdown",
   "metadata": {},
   "source": [
    "---\n",
    "## Condicionales\n",
    "### if, elif else\n",
    "\n",
    "Las condicinales son la manera en la que le damos flujo a un programa. Básicamente se resumen en automatizar la decisión de qué instrucción ejecutar basado en una condición.\n",
    "\n",
    "En lenguaje hablado, estas condicionales las  podemos interpretar como `si se cumple esta condición, entonces quiero que hagas esto. De lo contrario, haz esto otro.`\n",
    "\n",
    "### Ejemplo con pseudocódigo\n",
    "Supongamos que queremos escribir un programa que determine si un estudiante aprobó o no un grado escolar. Si el promedio final del estudiante es mayor o igual a $6.0$, entonces el estudiante aprobó. De lo contrario, el estudiante reprobó.\n",
    "\n",
    "```\n",
    "promedio = leer promedio\n",
    "si promedio mayor o igual 6.0:\n",
    "    imprimir \"aprobó\"\n",
    "de lo contrario:\n",
    "    imprimir \"reprobó\"\n",
    "```"
   ]
  },
  {
   "cell_type": "markdown",
   "metadata": {},
   "source": [
    "### Python\n",
    "\n",
    "En python los condionales se estructuran con los bloques `if, elif, else`. A continuación se muestra la sintaxis:\n",
    "\n",
    "~~~~\n",
    "if [condición a probar]:\n",
    "    //bloque de código que se ejecuta si la condición probada fue verdadera. Se debe forzosamente \n",
    "    //indentar el código a la derecha, y que se colocan dos puntos ' : ' después de la condición\n",
    "elif [Otra condición a probar en caso de que la primera NO se haya cumplido]:\n",
    "    //bloque de código corresspondiente\n",
    "else:\n",
    "    //en caso de que no se haya cumplido ninguna de las condiciones anteriores, entonces se ejecuta\n",
    "    //el bloque else\n",
    "~~~~\n",
    "\n",
    "---\n",
    "\n",
    "~~~~python\n",
    "promedio = float(input(\"promedio: \"))\n",
    "if promedio >= 6.0:\n",
    "    print(\"aprobó\")\n",
    "else:\n",
    "    print(\"reprobó\")\n",
    "~~~~"
   ]
  },
  {
   "cell_type": "markdown",
   "metadata": {},
   "source": [
    "### Ejercicios\n",
    "1. Haz un programa que lea un número entero e imprima si éste es par o impar\n",
    "2. Haz un programa que lea la edad de una persona e imprima si puede votar o no\n",
    "3. Escribe un programa que reciba las calificaciones de matemáticas, inglés, física, química y programación de un estudiante e imprima su promedio en formato de letra, en donde F es menor a 6, D es de 6 a 6.9, C es de 7 a 7.9, B es de 8 a 8.9 y A es mayor a 9.0\n",
    "\n",
    "\n",
    "## Ciclos\n",
    "### Ciclo While\n",
    "\n",
    "El ciclo while tiene la misma estructura y comportamiento en Python que en cualquier otro lenguaje de alto nivel. Este ciclo consiste en repetir un bloque de código `mientras` una condición sea verdadera. \n",
    "\n",
    "El ciclo while es un enuncionado de control que permite que un bloque de código se ejecute de manera repetida basado en una condición booleana. Podemos pensar en el ciclo while como en un enunciado `if` que se repite.\n",
    "\n",
    "#### Sintaxis\n",
    "~~~~\n",
    "while [condición]:\n",
    "    #bloque de código que se ejecuta mientras la condición sea verdadera\n",
    "~~~~\n",
    "\n",
    "---"
   ]
  },
  {
   "cell_type": "code",
   "execution_count": 8,
   "metadata": {},
   "outputs": [
    {
     "name": "stdout",
     "output_type": "stream",
     "text": [
      "0, 1, 2, 3, 4, 5, 6, 7, 8, 9, "
     ]
    }
   ],
   "source": [
    "i = 0\n",
    "while i < 10:\n",
    "    print(i, end=\", \")\n",
    "    i += 1"
   ]
  },
  {
   "cell_type": "code",
   "execution_count": 2,
   "metadata": {},
   "outputs": [
    {
     "name": "stdout",
     "output_type": "stream",
     "text": [
      "adivina: 1\n",
      "adivina: 2\n",
      "adivina: 9\n",
      "Te tomó 3 intentos adivinar\n"
     ]
    }
   ],
   "source": [
    "numero_secreto = 9\n",
    "adivinanza = -1\n",
    "intentos = 0\n",
    "while adivinanza != numero_secreto:\n",
    "    adivinanza = int(input(\"adivina: \"))\n",
    "    intentos += 1\n",
    "print(\"Te tomó\",intentos,\"intentos adivinar\")"
   ]
  },
  {
   "cell_type": "markdown",
   "metadata": {},
   "source": [
    "### Llenando una lista en Python utilziando el ciclo while"
   ]
  },
  {
   "cell_type": "code",
   "execution_count": 11,
   "metadata": {},
   "outputs": [
    {
     "name": "stdout",
     "output_type": "stream",
     "text": [
      "Ingresa el nombre o escribe 'salir' para terminar: Gerardo\n",
      "Ingresa el nombre o escribe 'salir' para terminar: Martín\n",
      "Ingresa el nombre o escribe 'salir' para terminar: Sebastián\n",
      "Ingresa el nombre o escribe 'salir' para terminar: salir\n",
      "Éstas son las personas en tu lista:\n",
      " ['Gerardo', 'Martín', 'Sebastián']\n"
     ]
    }
   ],
   "source": [
    "lista_personas = []\n",
    "persona = \"\"\n",
    "while persona != \"salir\":\n",
    "    persona = input(\"Ingresa el nombre o escribe 'salir' para terminar: \")\n",
    "    if persona != \"salir\":\n",
    "        lista_personas.append(persona)\n",
    "\n",
    "print(\"Éstas son las personas en tu lista:\\n\", lista_personas)"
   ]
  },
  {
   "cell_type": "markdown",
   "metadata": {},
   "source": [
    "\n",
    "---\n",
    "### Ejercicios\n",
    "1. Escribe un programa que lea un número entero e imprima todos los valores entre 0 y el número dado. Se debe poder tanto para números positivos como negativos.\n",
    "2. Escribe un programa que te pida tu nombre y un número entero y después imprima un saludo a ese nombre N cantidad de veces. N siendo el número pedido.\n",
    "3. Escribe un programa que vaya almacenando en una lista todos los números que ingresa el usuario hasta que éste sea -1.\n",
    "4. Escribe un programa que pida al usuario calificaciones. El programa deberá pedir calificaciones hasta que el usuario introduzca la palabra \"end\". Al terminar la lectura, el programa deberá imprimir la cantidad de calificaciones y el promedio de éstas.\n"
   ]
  },
  {
   "cell_type": "markdown",
   "metadata": {},
   "source": [
    "### Ciclo For\n",
    "Un ciclo for en python se utiliza para `iterar` (ir uno por uno) sobre una secuencia (`lista`, `tupla`, `diccionario` o `string`). \n",
    "\n",
    "El ciclo for de python es diferente al ciclo for de otros lenguajes (por ejemplo C#, Java, C++). En Python, el ciclo for nos sirve exclusivamente para iterar y realizar una o varias instrucciones **por cada una** de estas iteraciones. \n",
    "\n",
    "Supongamos que tenemos la lista `personas = ['Martín', 'Gerardo', 'Sebastián']`. Esta lista contiene tres elementos. El ciclo for nos va a permitir pasar **uno por uno** de estos elementos de la lista.\n",
    "\n",
    "~~~~\n",
    "por cada elemento en la lista:\n",
    "    imprimir element\n",
    "~~~~\n",
    "\n",
    "---\n",
    "\n",
    "~~~~\n",
    "for [variable_de_control] in [secuencia]:\n",
    "    #realizar operaciones con [variable_de_control]\n",
    "~~~~"
   ]
  },
  {
   "cell_type": "code",
   "execution_count": 12,
   "metadata": {},
   "outputs": [
    {
     "name": "stdout",
     "output_type": "stream",
     "text": [
      "Martín\n",
      "Gerardo\n",
      "Sebastián\n"
     ]
    }
   ],
   "source": [
    "personas = ['Martín', 'Gerardo', 'Sebastián']\n",
    "for persona in personas:\n",
    "    print(persona)"
   ]
  },
  {
   "cell_type": "code",
   "execution_count": 14,
   "metadata": {},
   "outputs": [
    {
     "name": "stdout",
     "output_type": "stream",
     "text": [
      "Dame más cerveza\n",
      "Dame más vodka\n",
      "Dame más tequila\n",
      "Dame más agua\n",
      "Dame más chocomilk\n",
      "Dame más gasolina\n"
     ]
    }
   ],
   "source": [
    "bebidas = ['cerveza', 'vodka', 'tequila', 'agua', 'chocomilk', 'gasolina']\n",
    "for drink in bebidas:\n",
    "    print(\"Dame más\", drink)"
   ]
  },
  {
   "cell_type": "code",
   "execution_count": 15,
   "metadata": {},
   "outputs": [
    {
     "name": "stdout",
     "output_type": "stream",
     "text": [
      "E\n",
      "n\n",
      "u\n",
      "n\n",
      "c\n",
      "i\n",
      "a\n",
      "d\n",
      "o\n",
      " \n",
      "l\n",
      "a\n",
      "r\n",
      "g\n",
      "o\n",
      ",\n",
      " \n",
      "c\n",
      "o\n",
      "n\n",
      " \n",
      "m\n",
      "u\n",
      "c\n",
      "h\n",
      "a\n",
      "s\n",
      " \n",
      "p\n",
      "a\n",
      "l\n",
      "a\n",
      "b\n",
      "r\n",
      "a\n",
      "s\n",
      ".\n",
      ".\n",
      ".\n"
     ]
    }
   ],
   "source": [
    "for letra in \"Enunciado largo, con muchas palabras...\":\n",
    "    print(letra)"
   ]
  },
  {
   "cell_type": "code",
   "execution_count": 17,
   "metadata": {},
   "outputs": [
    {
     "name": "stdout",
     "output_type": "stream",
     "text": [
      "Gerardo Mathus (25 años) - Profesor\n",
      "Andŕes Manuel López Obrador (65 años) - Presidente\n",
      "Regina Ramírez (22 años) - Estudiante\n",
      "Mariana Zardain (45 años) - Funcionario público\n"
     ]
    }
   ],
   "source": [
    "lista_personas = [\n",
    "    {'nombre': 'Gerardo Mathus', 'edad': 25, 'ocupación':'Profesor'},\n",
    "    {'nombre': 'Andŕes Manuel López Obrador', 'edad': 65, 'ocupación':'Presidente'},\n",
    "    {'nombre': 'Regina Ramírez', 'edad': 22, 'ocupación':'Estudiante'},\n",
    "    {'nombre': 'Mariana Zardain', 'edad': 45, 'ocupación':'Funcionario público'},\n",
    "]\n",
    "for persona in lista_personas:\n",
    "    print(\"{} ({} años) - {}\".format(persona['nombre'], persona['edad'], persona['ocupación']))"
   ]
  },
  {
   "cell_type": "markdown",
   "metadata": {},
   "source": [
    "### Ejercicios\n",
    "1. Investiga la función range de python y escribe un ciclo for que itere del número 0 al 1000 e imprima únicamente los múltiplos de 10 que estén en este rango.\n",
    "2. Escribe un programa que lea los nombres de N personas (utiliza ciclo while) y después imprima los nombres en orden alfabético.\n",
    "3. Dada una lista de números del 1 al 100, escribe un programa que imprima 'foo' si el número divisible entre 3, 'bar' si es divisible entre 2 y '---' si no es divisible ni entre 2 ni entre 3'"
   ]
  },
  {
   "cell_type": "markdown",
   "metadata": {},
   "source": [
    "## Funciones\n",
    "Las funciones son bloques de código con nombre que podemos ejecutar cuando queramos. Esto nos ayudar a evitar la repetición de código. \n",
    "\n",
    "Una función tiene la capacidad de recibir datos (a los cuales nos referimos como parámetros) para poder trabajar con ellos. Otra característica de las funciones es que pueden regresar datos. Veamos algunos ejemplos de funciones en pseudocódigo y después en python.\n",
    "\n",
    "~~~~\n",
    "funcion imprimir_nombre(nombre):\n",
    "    imprimir(nombre)\n",
    "~~~~\n",
    "\n",
    "---\n",
    "\n",
    "~~~~\n",
    "funcion sumar_tres_numeros(a,b,c):\n",
    "    regresar a + b + c\n",
    "~~~~\n",
    "\n",
    "---\n",
    "\n",
    "~~~~\n",
    "funcion imprimir_hora_actual():\n",
    "    imprimir('18:45')\n",
    "~~~~\n",
    "\n",
    "---\n",
    "\n",
    "### Ahora en Python"
   ]
  },
  {
   "cell_type": "code",
   "execution_count": 18,
   "metadata": {},
   "outputs": [],
   "source": [
    "def imprimir_nombre(nombre):\n",
    "    print(\"El nombre es:\", nombre)"
   ]
  },
  {
   "cell_type": "code",
   "execution_count": 19,
   "metadata": {},
   "outputs": [
    {
     "name": "stdout",
     "output_type": "stream",
     "text": [
      "El nombre es: Gerardo\n"
     ]
    }
   ],
   "source": [
    "imprimir_nombre(\"Gerardo\")"
   ]
  },
  {
   "cell_type": "code",
   "execution_count": 20,
   "metadata": {},
   "outputs": [
    {
     "name": "stdout",
     "output_type": "stream",
     "text": [
      "El nombre es: Regina\n"
     ]
    }
   ],
   "source": [
    "imprimir_nombre(\"Regina\")"
   ]
  },
  {
   "cell_type": "code",
   "execution_count": 22,
   "metadata": {},
   "outputs": [],
   "source": [
    "def sumar_tres_numeros(a,b,c):\n",
    "    return a + b + c"
   ]
  },
  {
   "cell_type": "code",
   "execution_count": 23,
   "metadata": {},
   "outputs": [
    {
     "name": "stdout",
     "output_type": "stream",
     "text": [
      "La suma es 15\n"
     ]
    }
   ],
   "source": [
    "suma = sumar_tres_numeros(5,5,5)\n",
    "print(\"La suma es\", suma)"
   ]
  },
  {
   "cell_type": "code",
   "execution_count": 25,
   "metadata": {},
   "outputs": [
    {
     "name": "stdout",
     "output_type": "stream",
     "text": [
      "La suma es 38.9\n"
     ]
    }
   ],
   "source": [
    "suma = sumar_tres_numeros(10,23.4,5.5)\n",
    "print(\"La suma es\", suma)"
   ]
  },
  {
   "cell_type": "code",
   "execution_count": 26,
   "metadata": {},
   "outputs": [],
   "source": [
    "def sumar_lista(lista):\n",
    "    resultado = 0\n",
    "    for i in lista:\n",
    "        resultado += i\n",
    "    return resultado"
   ]
  },
  {
   "cell_type": "code",
   "execution_count": 28,
   "metadata": {},
   "outputs": [
    {
     "data": {
      "text/plain": [
       "21"
      ]
     },
     "execution_count": 28,
     "metadata": {},
     "output_type": "execute_result"
    }
   ],
   "source": [
    "suma = sumar_lista([1,2,3,4,5,6])\n",
    "suma"
   ]
  },
  {
   "cell_type": "code",
   "execution_count": 39,
   "metadata": {},
   "outputs": [],
   "source": [
    "def obtener_primera_y_ultima(cadena):\n",
    "    return cadena[0], cadena[-1]"
   ]
  },
  {
   "cell_type": "code",
   "execution_count": 40,
   "metadata": {},
   "outputs": [
    {
     "data": {
      "text/plain": [
       "('G', 's')"
      ]
     },
     "execution_count": 40,
     "metadata": {},
     "output_type": "execute_result"
    }
   ],
   "source": [
    "obtener_primera_y_ultima(\"Gerardo Mathus\")"
   ]
  },
  {
   "cell_type": "code",
   "execution_count": 65,
   "metadata": {},
   "outputs": [],
   "source": [
    "def concatenar(*strs, separador=' '):\n",
    "    concat = \"\"\n",
    "    for s in strs:\n",
    "        concat += s + separador\n",
    "    return concat"
   ]
  },
  {
   "cell_type": "code",
   "execution_count": 66,
   "metadata": {},
   "outputs": [
    {
     "data": {
      "text/plain": [
       "'Gerardo Mathus Gómez Sandoval '"
      ]
     },
     "execution_count": 66,
     "metadata": {},
     "output_type": "execute_result"
    }
   ],
   "source": [
    "concatenar(\"Gerardo\",\"Mathus\",\"Gómez\",\"Sandoval\")"
   ]
  },
  {
   "cell_type": "code",
   "execution_count": 67,
   "metadata": {},
   "outputs": [
    {
     "data": {
      "text/plain": [
       "'Gerardo,Mathus,Gómez,Sandoval,'"
      ]
     },
     "execution_count": 67,
     "metadata": {},
     "output_type": "execute_result"
    }
   ],
   "source": [
    "concatenar(\"Gerardo\",\"Mathus\",\"Gómez\",\"Sandoval\", separador=',')"
   ]
  },
  {
   "cell_type": "markdown",
   "metadata": {},
   "source": [
    "## Lectura y escritura de archivos\n",
    "\n",
    "Muchas veces el `input` que vamos a usar no lo vamos a obtener a través de la consola, sino que vamos a querer leer datos de un archivo externo. Cuando trabajemos con `numpy` y `pandas` veremos las mejores formas de importar bases de datos a un programa de Python. Por ahora haremos lectura y escritura de archivos de texto.\n",
    "\n",
    "---\n",
    "\n",
    "Tenemos el archivo `estudiantes.txt` el cual tiene las siguientes líneas:\n",
    "~~~~\n",
    "Regina Pérez Granados\n",
    "María Salazar Vázquez\n",
    "Juan Martínez Cardoso\n",
    "Raquel Figueroa Llano\n",
    "Rafael Quiroga Medrano\n",
    "Alberto Zaragosa Gómez\n",
    "Joaquín Cano Mendoza\n",
    "Julián Silva Medina\n",
    "Julieta Millán Valle\n",
    "~~~~\n",
    "\n",
    "Queremos leer este archivo y agregar cada línea a una lista"
   ]
  },
  {
   "cell_type": "code",
   "execution_count": 1,
   "metadata": {},
   "outputs": [
    {
     "name": "stdout",
     "output_type": "stream",
     "text": [
      "Regina Pérez Granados\n",
      "\n",
      "María Salazar Vázquez\n",
      "\n",
      "Juan Martínez Cardoso\n",
      "\n",
      "Raquel Figueroa Llano\n",
      "\n",
      "Rafael Quiroga Medrano\n",
      "\n",
      "Alberto Zaragosa Gómez\n",
      "\n",
      "Joaquín Cano Mendoza\n",
      "\n",
      "Julián Silva Medina\n",
      "\n",
      "Julieta Millán Valle\n",
      "\n",
      "Alejandro Medina Sánchez\n",
      "\n",
      "Rogelio Montoya Martínez\n",
      "\n"
     ]
    }
   ],
   "source": [
    "#abrir el archivo en modo lectura 'r'\n",
    "f = open(\"estudiantes.txt\", \"r\")\n",
    "\n",
    "#por cada linea en el archivo...\n",
    "for linea in f:\n",
    "  print(linea)\n",
    "\n",
    "#cerrar el archivo\n",
    "f.close()"
   ]
  },
  {
   "cell_type": "code",
   "execution_count": 81,
   "metadata": {},
   "outputs": [
    {
     "data": {
      "text/plain": [
       "['Regina Pérez Granados\\n',\n",
       " 'María Salazar Vázquez\\n',\n",
       " 'Juan Martínez Cardoso\\n',\n",
       " 'Raquel Figueroa Llano\\n',\n",
       " 'Rafael Quiroga Medrano\\n',\n",
       " 'Alberto Zaragosa Gómez\\n',\n",
       " 'Joaquín Cano Mendoza\\n',\n",
       " 'Julián Silva Medina\\n',\n",
       " 'Julieta Millán Valle\\n']"
      ]
     },
     "execution_count": 81,
     "metadata": {},
     "output_type": "execute_result"
    }
   ],
   "source": [
    "#otra manera de leer todas las líneas de un archivo:\n",
    "f = open('estudiantes.txt', \"r\")\n",
    "lineas = f.readlines()\n",
    "f.close()\n",
    "lineas"
   ]
  },
  {
   "cell_type": "code",
   "execution_count": 76,
   "metadata": {},
   "outputs": [
    {
     "data": {
      "text/plain": [
       "['Regina Pérez Granados\\n',\n",
       " 'María Salazar Vázquez\\n',\n",
       " 'Juan Martínez Cardoso\\n',\n",
       " 'Raquel Figueroa Llano\\n',\n",
       " 'Rafael Quiroga Medrano\\n',\n",
       " 'Alberto Zaragosa Gómez\\n',\n",
       " 'Joaquín Cano Mendoza\\n',\n",
       " 'Julián Silva Medina\\n',\n",
       " 'Julieta Millán Valle\\n']"
      ]
     },
     "execution_count": 76,
     "metadata": {},
     "output_type": "execute_result"
    }
   ],
   "source": [
    "#otra manera de hacer lo mismo\n",
    "f = open('estudiantes.txt', \"r\")\n",
    "lineas = list(lineas)\n",
    "f.close()\n",
    "lineas"
   ]
  },
  {
   "cell_type": "markdown",
   "metadata": {},
   "source": [
    "Los ejemplos anteriores nos leían un caracter de secuencia de escape al final de cada nombre `\\n`. Esto significa `nueva línea` o `salto de línea`. Vamos a quitarlo"
   ]
  },
  {
   "cell_type": "code",
   "execution_count": 80,
   "metadata": {},
   "outputs": [
    {
     "name": "stdout",
     "output_type": "stream",
     "text": [
      "Regina Pérez Granados\n",
      "María Salazar Vázquez\n",
      "Juan Martínez Cardoso\n",
      "Raquel Figueroa Llano\n",
      "Rafael Quiroga Medrano\n",
      "Alberto Zaragosa Gómez\n",
      "Joaquín Cano Mendoza\n",
      "Julián Silva Medina\n",
      "Julieta Millán Valle\n"
     ]
    }
   ],
   "source": [
    "f = open('estudiantes.txt')\n",
    "for linea in f:\n",
    "    print(linea.strip())\n",
    "f.close()"
   ]
  },
  {
   "cell_type": "markdown",
   "metadata": {},
   "source": [
    "Esto lo podemos hacer en una sola línea con la función `splitlines()`"
   ]
  },
  {
   "cell_type": "code",
   "execution_count": 3,
   "metadata": {},
   "outputs": [
    {
     "data": {
      "text/plain": [
       "['Regina Pérez Granados',\n",
       " 'María Salazar Vázquez',\n",
       " 'Juan Martínez Cardoso',\n",
       " 'Raquel Figueroa Llano',\n",
       " 'Rafael Quiroga Medrano',\n",
       " 'Alberto Zaragosa Gómez',\n",
       " 'Joaquín Cano Mendoza',\n",
       " 'Julián Silva Medina',\n",
       " 'Julieta Millán Valle']"
      ]
     },
     "execution_count": 3,
     "metadata": {},
     "output_type": "execute_result"
    }
   ],
   "source": [
    "nombres = open('estudiantes.txt').read().splitlines()\n",
    "nombres"
   ]
  },
  {
   "cell_type": "code",
   "execution_count": 88,
   "metadata": {},
   "outputs": [
    {
     "data": {
      "text/plain": [
       "['Regina Pérez Granados',\n",
       " 'María Salazar Vázquez',\n",
       " 'Juan Martínez Cardoso',\n",
       " 'Raquel Figueroa Llano',\n",
       " 'Rafael Quiroga Medrano',\n",
       " 'Alberto Zaragosa Gómez',\n",
       " 'Joaquín Cano Mendoza',\n",
       " 'Julián Silva Medina',\n",
       " 'Julieta Millán Valle']"
      ]
     },
     "execution_count": 88,
     "metadata": {},
     "output_type": "execute_result"
    }
   ],
   "source": [
    "#Separando un poco los comandos\n",
    "f = open('estudiantes.txt')\n",
    "estudiantes = f.read().splitlines()\n",
    "f.close()\n",
    "estudiantes"
   ]
  },
  {
   "cell_type": "code",
   "execution_count": 90,
   "metadata": {},
   "outputs": [
    {
     "name": "stdout",
     "output_type": "stream",
     "text": [
      "Hola, Regina Pérez Granados\n",
      "Hola, María Salazar Vázquez\n",
      "Hola, Juan Martínez Cardoso\n",
      "Hola, Raquel Figueroa Llano\n",
      "Hola, Rafael Quiroga Medrano\n",
      "Hola, Alberto Zaragosa Gómez\n",
      "Hola, Joaquín Cano Mendoza\n",
      "Hola, Julián Silva Medina\n",
      "Hola, Julieta Millán Valle\n"
     ]
    }
   ],
   "source": [
    "for e in estudiantes:\n",
    "    print(\"Hola,\", e)"
   ]
  },
  {
   "cell_type": "markdown",
   "metadata": {},
   "source": [
    "## Escribir a un archivo\n",
    "### Modo escritura `'w'`\n",
    "El modo escritura reemplazará cualquier archivo existente si el nombre es el mismo"
   ]
  },
  {
   "cell_type": "code",
   "execution_count": 94,
   "metadata": {},
   "outputs": [],
   "source": [
    "numeros = list(range(0,10))\n",
    "archivo_out = open(\"archivo_salida.txt\", \"w\")\n",
    "for n in numeros:\n",
    "  archivo_out.write(str(n))\n",
    "  archivo_out.write(\"\\n\")\n",
    "archivo_out.close()"
   ]
  },
  {
   "cell_type": "markdown",
   "metadata": {},
   "source": [
    "### Modo append (`a`)\n",
    "El modo append colocará el nuevo texto al final del archivo existente"
   ]
  },
  {
   "cell_type": "code",
   "execution_count": 96,
   "metadata": {},
   "outputs": [
    {
     "data": {
      "text/plain": [
       "['Regina Pérez Granados',\n",
       " 'María Salazar Vázquez',\n",
       " 'Juan Martínez Cardoso',\n",
       " 'Raquel Figueroa Llano',\n",
       " 'Rafael Quiroga Medrano',\n",
       " 'Alberto Zaragosa Gómez',\n",
       " 'Joaquín Cano Mendoza',\n",
       " 'Julián Silva Medina',\n",
       " 'Julieta Millán Valle']"
      ]
     },
     "execution_count": 96,
     "metadata": {},
     "output_type": "execute_result"
    }
   ],
   "source": [
    "f = open('estudiantes.txt')\n",
    "estudiantes = f.read().splitlines()\n",
    "f.close()\n",
    "estudiantes"
   ]
  },
  {
   "cell_type": "code",
   "execution_count": 97,
   "metadata": {},
   "outputs": [],
   "source": [
    "nuevos_estudiantes = ['Alejandro Medina Sánchez', 'Rogelio Montoya Martínez']"
   ]
  },
  {
   "cell_type": "code",
   "execution_count": 99,
   "metadata": {},
   "outputs": [],
   "source": [
    "#vamos a meter estos nuevos estudiantes al archivo de estudiantes.txt\n",
    "f = open(\"estudiantes.txt\", \"a\")\n",
    "for nuevo_e in nuevos_estudiantes:\n",
    "    f.write(nuevo_e + \"\\n\")\n",
    "f.close()"
   ]
  },
  {
   "cell_type": "markdown",
   "metadata": {},
   "source": [
    "Volvemos a leer estudiantes.txt y debería tener los nuevos estudiantes al final"
   ]
  },
  {
   "cell_type": "code",
   "execution_count": 100,
   "metadata": {},
   "outputs": [
    {
     "data": {
      "text/plain": [
       "['Regina Pérez Granados',\n",
       " 'María Salazar Vázquez',\n",
       " 'Juan Martínez Cardoso',\n",
       " 'Raquel Figueroa Llano',\n",
       " 'Rafael Quiroga Medrano',\n",
       " 'Alberto Zaragosa Gómez',\n",
       " 'Joaquín Cano Mendoza',\n",
       " 'Julián Silva Medina',\n",
       " 'Julieta Millán Valle',\n",
       " 'Alejandro Medina Sánchez',\n",
       " 'Rogelio Montoya Martínez']"
      ]
     },
     "execution_count": 100,
     "metadata": {},
     "output_type": "execute_result"
    }
   ],
   "source": [
    "f = open('estudiantes.txt')\n",
    "estudiantes = f.read().splitlines()\n",
    "f.close()\n",
    "estudiantes"
   ]
  },
  {
   "cell_type": "markdown",
   "metadata": {},
   "source": [
    "## Paquetes"
   ]
  },
  {
   "cell_type": "markdown",
   "metadata": {},
   "source": [
    "En python podemos hacer uso de paquetes que otras personas u organizaciones han publicado. Estos paquetes contienen algoritmos que podemos implementar fácilmente en nuestro código.\n",
    "\n",
    "### Paquete Math\n",
    "El paquete `math` viene instalado por defecto en Python. Un paquete se agrega a un programa de python utilizando el comando `import` seguido del paquete que deseamos incluir."
   ]
  },
  {
   "cell_type": "code",
   "execution_count": 101,
   "metadata": {},
   "outputs": [],
   "source": [
    "import math"
   ]
  },
  {
   "cell_type": "code",
   "execution_count": 104,
   "metadata": {},
   "outputs": [
    {
     "name": "stdout",
     "output_type": "stream",
     "text": [
      "This module is always available.  It provides access to the\n",
      "mathematical functions defined by the C standard.\n"
     ]
    }
   ],
   "source": [
    "print(math.__doc__)"
   ]
  },
  {
   "cell_type": "markdown",
   "metadata": {},
   "source": [
    "## Documentación de ayuda. \n",
    "Para ver la ayuda o documentación rápida de un paquete, ejecutamos\n",
    "~~~~pỳthon\n",
    "help(math)\n",
    "~~~~\n",
    "\n",
    "~~~~\n",
    "Help on built-in module math:\n",
    "\n",
    "NAME\n",
    "    math\n",
    "\n",
    "DESCRIPTION\n",
    "    This module is always available.  It provides access to the\n",
    "    mathematical functions defined by the C standard.\n",
    "\n",
    "FUNCTIONS\n",
    "    acos(...)\n",
    "        acos(x)\n",
    "        \n",
    "        Return the arc cosine (measured in radians) of x.\n",
    "    \n",
    "    acosh(...)\n",
    "        acosh(x)\n",
    "        \n",
    "        Return the inverse hyperbolic cosine of x.\n",
    "    \n",
    "    asin(...)\n",
    "        asin(x)\n",
    "        \n",
    "        Return the arc sine (measured in radians) of x.\n",
    "    \n",
    "    asinh(...)\n",
    "        asinh(x)\n",
    "        \n",
    "        Return the inverse hyperbolic sine of x.\n",
    "    \n",
    "    atan(...)\n",
    "        atan(x)\n",
    "        \n",
    "        Return the arc tangent (measured in radians) of x.\n",
    "    \n",
    "    atan2(...)\n",
    "        atan2(y, x)\n",
    "        \n",
    "        Return the arc tangent (measured in radians) of y/x.\n",
    "        Unlike atan(y/x), the signs of both x and y are considered.\n",
    "    \n",
    "    atanh(...)\n",
    "        atanh(x)\n",
    "        \n",
    "        Return the inverse hyperbolic tangent of x.\n",
    "    \n",
    "    ceil(...)\n",
    "        ceil(x)\n",
    "        \n",
    "        Return the ceiling of x as an Integral.\n",
    "        This is the smallest integer >= x.\n",
    "~~~~"
   ]
  },
  {
   "cell_type": "code",
   "execution_count": 106,
   "metadata": {},
   "outputs": [
    {
     "data": {
      "text/plain": [
       "2.718281828459045"
      ]
     },
     "execution_count": 106,
     "metadata": {},
     "output_type": "execute_result"
    }
   ],
   "source": [
    "math.e"
   ]
  },
  {
   "cell_type": "code",
   "execution_count": 107,
   "metadata": {},
   "outputs": [
    {
     "data": {
      "text/plain": [
       "3.141592653589793"
      ]
     },
     "execution_count": 107,
     "metadata": {},
     "output_type": "execute_result"
    }
   ],
   "source": [
    "math.pi"
   ]
  },
  {
   "cell_type": "code",
   "execution_count": 108,
   "metadata": {},
   "outputs": [
    {
     "data": {
      "text/plain": [
       "-1.2246467991473532e-16"
      ]
     },
     "execution_count": 108,
     "metadata": {},
     "output_type": "execute_result"
    }
   ],
   "source": [
    "math.tan(math.pi)"
   ]
  },
  {
   "cell_type": "code",
   "execution_count": 109,
   "metadata": {},
   "outputs": [
    {
     "data": {
      "text/plain": [
       "-0.9880316240928618"
      ]
     },
     "execution_count": 109,
     "metadata": {},
     "output_type": "execute_result"
    }
   ],
   "source": [
    "math.sin(30)"
   ]
  },
  {
   "cell_type": "code",
   "execution_count": 111,
   "metadata": {},
   "outputs": [
    {
     "name": "stdout",
     "output_type": "stream",
     "text": [
      "pow(x, y)\n",
      "\n",
      "Return x**y (x to the power of y).\n"
     ]
    }
   ],
   "source": [
    "print(math.pow.__doc__)"
   ]
  },
  {
   "cell_type": "code",
   "execution_count": 112,
   "metadata": {},
   "outputs": [
    {
     "data": {
      "text/plain": [
       "25.0"
      ]
     },
     "execution_count": 112,
     "metadata": {},
     "output_type": "execute_result"
    }
   ],
   "source": [
    "math.pow(5,2)"
   ]
  },
  {
   "cell_type": "code",
   "execution_count": 114,
   "metadata": {},
   "outputs": [
    {
     "data": {
      "text/plain": [
       "512.0"
      ]
     },
     "execution_count": 114,
     "metadata": {},
     "output_type": "execute_result"
    }
   ],
   "source": [
    "math.pow(2,9)"
   ]
  },
  {
   "cell_type": "code",
   "execution_count": 115,
   "metadata": {},
   "outputs": [
    {
     "name": "stdout",
     "output_type": "stream",
     "text": [
      "2^1 = 2.0\n",
      "2^2 = 4.0\n",
      "2^3 = 8.0\n",
      "2^4 = 16.0\n",
      "2^5 = 32.0\n",
      "2^6 = 64.0\n",
      "2^7 = 128.0\n",
      "2^8 = 256.0\n",
      "2^9 = 512.0\n",
      "2^10 = 1024.0\n"
     ]
    }
   ],
   "source": [
    "for i in range(1,11):\n",
    "    print(\"2^{} = {}\".format(i,math.pow(2,i)))"
   ]
  },
  {
   "cell_type": "markdown",
   "metadata": {},
   "source": [
    "### [Esta liga](https://hackernoon.com/pip-install-abra-cadabra-or-python-packages-for-beginners-33a989834975) contiene un resumen muy entendible de paquetes en Python\n",
    "\n",
    "---\n",
    "\n",
    "\n",
    "## Ejercicio\n",
    "Toma el siguiente texto y guárdalo en un archivo de texto:\n",
    "~~~~\n",
    "CHN|China|1,398,860,000\n",
    "IND|India|1,351,570,000\n",
    "USA|Estados Unidos|329,799,000\n",
    "IDN|Indonesia|268,074,600\n",
    "OAK|Pakistán|205,821,000\n",
    "BRA|Brasil|210,363,000\n",
    "NER|Nigeria|200,963,599\n",
    "BGD|Banglaesh|167,145,000\n",
    "RUS|Rusia|146,793,744\n",
    "MEX|México|126,577,691\n",
    "~~~~\n",
    "\n",
    "Lee el archivo de texto en Python. Por cada línea deberás crear un diccionario que tenga las llaves `iso`, `name` y `pop`, y estos diccionarios deberán almacenarse en una lista con nombre `paises`.\n",
    "\n",
    "Posteriormente, haz que tu programa le pregunte al usuario el país cuya información desea conocer. El usuario deberá ingresar un código de tres letras mayúsculas, mismas que tu programa deberá buscar en el diccionario de países. En caso de que tu diccionario cuente con la clave que el usuario proporcionó, imprime la información del país para que el usuario la pueda leer. \n",
    "\n",
    "El programa deberá repetir su ejecución hasta que el usuario introduzca el texto \"END\" en lugar de un código de país.\n",
    "\n",
    "A continuación se muestra un flujo de ejemplo\n",
    "\n",
    "~~~~\n",
    "Ingresa el código del país (END para terminar): MEX\n",
    "**********MEX**********\n",
    "Nombre del país: México\n",
    "Población: 126,577,691\n",
    "***********************\n",
    "\n",
    "Ingresa el código del país (END para terminar): USA\n",
    "**********USA**********\n",
    "Nombre del país: Estados Unidos\n",
    "Población: 329,799,000\n",
    "***********************\n",
    "\n",
    "Ingresa el código del país (END para terminar): EGP\n",
    "No tengo datos de EGP\n",
    "\n",
    "Ingresa el código del país (END para terminar): END\n",
    "Bye!\n",
    "~~~~"
   ]
  },
  {
   "cell_type": "code",
   "execution_count": null,
   "metadata": {},
   "outputs": [],
   "source": []
  }
 ],
 "metadata": {
  "kernelspec": {
   "display_name": "Python 3",
   "language": "python",
   "name": "python3"
  },
  "language_info": {
   "codemirror_mode": {
    "name": "ipython",
    "version": 3
   },
   "file_extension": ".py",
   "mimetype": "text/x-python",
   "name": "python",
   "nbconvert_exporter": "python",
   "pygments_lexer": "ipython3",
   "version": "3.6.8"
  }
 },
 "nbformat": 4,
 "nbformat_minor": 2
}
