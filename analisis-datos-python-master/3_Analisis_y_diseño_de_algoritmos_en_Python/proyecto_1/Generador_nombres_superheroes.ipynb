{
 "cells": [
  {
   "cell_type": "markdown",
   "metadata": {},
   "source": [
    "# Creador de nombres de super heroes\n",
    "\n",
    "Escribe un programa que reciba un nombre y genere el nombre de súper héroe de la siguiente forma:\n",
    "\n",
    "![](superheronames.png)"
   ]
  },
  {
   "cell_type": "markdown",
   "metadata": {},
   "source": [
    "## Primera solución\n",
    "### Diccionario de letras a lista de nombres"
   ]
  },
  {
   "cell_type": "code",
   "execution_count": 22,
   "metadata": {},
   "outputs": [],
   "source": [
    "diccionario_letras_nombres = {\n",
    "    'A': ['Amazing', 'Giant', 'Man'],\n",
    "    'B': ['Brillaint', 'Tiny', 'Moth'],\n",
    "    'C' : ['Awesome','Shrinking','Goat'],\n",
    "    'D' : ['Incredible','Magic','Princess'],\n",
    "    'E' : ['Uncanny','Slimy','Girl'],\n",
    "    'F' : ['Impossible','Flying','Machine'],\n",
    "    'G' : ['Unbelievable','Angry','Cat'],\n",
    "    'H' : ['Surprisingly', 'Crazy','Balloon'],\n",
    "    'I' : ['Unexpected','Shiny','Ant'],\n",
    "    'J' : ['Dastardly','Golden','Bee'],\n",
    "    'K' : ['Evil','Sticky','Wolf'],\n",
    "    'L' : ['Monstrous','Diamond','Bear'],\n",
    "    'M' : ['Preposterous','Flaming','lion'],\n",
    "    'N' : ['Alarming','Psychic','Ball'],\n",
    "    'O' : ['Insane','Silent','Ghost'],\n",
    "    'P' : ['Terdlying','Screaming','Witch'],\n",
    "    'Q' : ['Unthinkable','Jumping','Vampire'],\n",
    "    'R' : ['Absurd','Crouching','Hand'],\n",
    "    'S' : ['Improbable','Friendly','Foot'],\n",
    "    'T' : ['Outlandish','Omnipotent','Tornado'],\n",
    "    'U' : ['Questionable','Dripping','Fish'],\n",
    "    'V' : ['Ridiculous','Flimsy','Millipede'],\n",
    "    'W' : ['Erotic','Hairy','Rock'],\n",
    "    'X' : ['Unfathomable','Translucent','Nose'],\n",
    "    'Y' : ['Inconceivable','Strange','Dog'],\n",
    "    'Z' : ['Unimaginable','Silver','Boy']\n",
    "}"
   ]
  },
  {
   "cell_type": "code",
   "execution_count": 23,
   "metadata": {},
   "outputs": [
    {
     "data": {
      "text/plain": [
       "{'A': ['Amazing', 'Giant', 'Man'],\n",
       " 'B': ['Brillaint', 'Tiny', 'Moth'],\n",
       " 'C': ['Awesome', 'Shrinking', 'Goat'],\n",
       " 'D': ['Incredible', 'Magic', 'Princess'],\n",
       " 'E': ['Uncanny', 'Slimy', 'Girl'],\n",
       " 'F': ['Impossible', 'Flying', 'Machine'],\n",
       " 'G': ['Unbelievable', 'Angry', 'Cat'],\n",
       " 'H': ['Surprisingly', 'Crazy', 'Balloon'],\n",
       " 'I': ['Unexpected', 'Shiny', 'Ant'],\n",
       " 'J': ['Dastardly', 'Golden', 'Bee'],\n",
       " 'K': ['Evil', 'Sticky', 'Wolf'],\n",
       " 'L': ['Monstrous', 'Diamond', 'Bear'],\n",
       " 'M': ['Preposterous', 'Flaming', 'lion'],\n",
       " 'N': ['Alarming', 'Psychic', 'Ball'],\n",
       " 'O': ['Insane', 'Silent', 'Ghost'],\n",
       " 'P': ['Terdlying', 'Screaming', 'Witch'],\n",
       " 'Q': ['Unthinkable', 'Jumping', 'Vampire'],\n",
       " 'R': ['Absurd', 'Crouching', 'Hand'],\n",
       " 'S': ['Improbable', 'Friendly', 'Foot'],\n",
       " 'T': ['Outlandish', 'Omnipotent', 'Tornado'],\n",
       " 'U': ['Questionable', 'Dripping', 'Fish'],\n",
       " 'V': ['Ridiculous', 'Flimsy', 'Millipede'],\n",
       " 'W': ['Erotic', 'Hairy', 'Rock'],\n",
       " 'X': ['Unfathomable', 'Translucent', 'Nose'],\n",
       " 'Y': ['Inconceivable', 'Strange', 'Dog'],\n",
       " 'Z': ['Unimaginable', 'Silver', 'Boy']}"
      ]
     },
     "execution_count": 23,
     "metadata": {},
     "output_type": "execute_result"
    }
   ],
   "source": [
    "diccionario_letras_nombres"
   ]
  },
  {
   "cell_type": "code",
   "execution_count": 3,
   "metadata": {},
   "outputs": [
    {
     "name": "stdout",
     "output_type": "stream",
     "text": [
      "Dame tu nombre: Gerardo\n"
     ]
    }
   ],
   "source": [
    "nombre = input(\"Dame tu nombre: \")"
   ]
  },
  {
   "cell_type": "code",
   "execution_count": 4,
   "metadata": {},
   "outputs": [
    {
     "name": "stdout",
     "output_type": "stream",
     "text": [
      "Dame tu apellido paterno: Mathus\n"
     ]
    }
   ],
   "source": [
    "ap_paterno = input(\"Dame tu apellido paterno: \")"
   ]
  },
  {
   "cell_type": "code",
   "execution_count": 5,
   "metadata": {},
   "outputs": [
    {
     "name": "stdout",
     "output_type": "stream",
     "text": [
      "Dame tu apellido materno: Gomez Sandoval\n"
     ]
    }
   ],
   "source": [
    "ap_materno = input(\"Dame tu apellido materno: \")"
   ]
  },
  {
   "cell_type": "code",
   "execution_count": 6,
   "metadata": {},
   "outputs": [
    {
     "data": {
      "text/plain": [
       "'Gerardo'"
      ]
     },
     "execution_count": 6,
     "metadata": {},
     "output_type": "execute_result"
    }
   ],
   "source": [
    "nombre"
   ]
  },
  {
   "cell_type": "code",
   "execution_count": 7,
   "metadata": {},
   "outputs": [
    {
     "data": {
      "text/plain": [
       "'Mathus'"
      ]
     },
     "execution_count": 7,
     "metadata": {},
     "output_type": "execute_result"
    }
   ],
   "source": [
    "ap_paterno"
   ]
  },
  {
   "cell_type": "code",
   "execution_count": 8,
   "metadata": {},
   "outputs": [
    {
     "data": {
      "text/plain": [
       "'Gomez Sandoval'"
      ]
     },
     "execution_count": 8,
     "metadata": {},
     "output_type": "execute_result"
    }
   ],
   "source": [
    "ap_materno"
   ]
  },
  {
   "cell_type": "markdown",
   "metadata": {},
   "source": [
    "Sacar las primera letra del nombre y apellidos"
   ]
  },
  {
   "cell_type": "code",
   "execution_count": 25,
   "metadata": {},
   "outputs": [],
   "source": [
    "primera_letra_nombre = nombre[0]\n",
    "primera_letra_ap_paterno = ap_paterno[0]\n",
    "primera_letra_ap_materno = ap_materno[0]"
   ]
  },
  {
   "cell_type": "code",
   "execution_count": 26,
   "metadata": {},
   "outputs": [
    {
     "data": {
      "text/plain": [
       "'G'"
      ]
     },
     "execution_count": 26,
     "metadata": {},
     "output_type": "execute_result"
    }
   ],
   "source": [
    "primera_letra_nombre"
   ]
  },
  {
   "cell_type": "code",
   "execution_count": 27,
   "metadata": {},
   "outputs": [
    {
     "data": {
      "text/plain": [
       "'M'"
      ]
     },
     "execution_count": 27,
     "metadata": {},
     "output_type": "execute_result"
    }
   ],
   "source": [
    "primera_letra_ap_paterno"
   ]
  },
  {
   "cell_type": "code",
   "execution_count": 28,
   "metadata": {},
   "outputs": [
    {
     "data": {
      "text/plain": [
       "'G'"
      ]
     },
     "execution_count": 28,
     "metadata": {},
     "output_type": "execute_result"
    }
   ],
   "source": [
    "primera_letra_ap_materno"
   ]
  },
  {
   "cell_type": "code",
   "execution_count": 29,
   "metadata": {},
   "outputs": [],
   "source": [
    "nombre_superheroe = diccionario_letras_nombres[primera_letra_nombre][0]"
   ]
  },
  {
   "cell_type": "code",
   "execution_count": 30,
   "metadata": {},
   "outputs": [],
   "source": [
    "nombre_superheroe += ' ' + diccionario_letras_nombres[primera_letra_ap_paterno][1]"
   ]
  },
  {
   "cell_type": "code",
   "execution_count": 31,
   "metadata": {},
   "outputs": [],
   "source": [
    "nombre_superheroe += ' ' + diccionario_letras_nombres[primera_letra_ap_materno][2]"
   ]
  },
  {
   "cell_type": "code",
   "execution_count": 32,
   "metadata": {},
   "outputs": [
    {
     "data": {
      "text/plain": [
       "'Unbelievable Flaming Cat'"
      ]
     },
     "execution_count": 32,
     "metadata": {},
     "output_type": "execute_result"
    }
   ],
   "source": [
    "nombre_superheroe"
   ]
  },
  {
   "cell_type": "code",
   "execution_count": 33,
   "metadata": {},
   "outputs": [
    {
     "name": "stdout",
     "output_type": "stream",
     "text": [
      "Tu nombre de súper héroe es: Unbelievable Flaming Cat\n"
     ]
    }
   ],
   "source": [
    "print(\"Tu nombre de súper héroe es:\", nombre_superheroe)"
   ]
  },
  {
   "cell_type": "markdown",
   "metadata": {},
   "source": [
    "---\n",
    "\n",
    "## Solución 2\n",
    "### Archivos de texto"
   ]
  },
  {
   "cell_type": "code",
   "execution_count": 36,
   "metadata": {},
   "outputs": [],
   "source": [
    "archivo = open('superheronames.txt', 'r')\n",
    "lineas_archivo = archivo.read().splitlines()\n",
    "archivo.close()"
   ]
  },
  {
   "cell_type": "code",
   "execution_count": 38,
   "metadata": {},
   "outputs": [],
   "source": [
    "diccionario_nombres_2 = {}"
   ]
  },
  {
   "cell_type": "code",
   "execution_count": 56,
   "metadata": {},
   "outputs": [],
   "source": [
    "for linea in lineas_archivo:\n",
    "    valores_partidos = linea.split(',')\n",
    "    diccionario_nombres_2[valores_partidos[0]] = valores_partidos[1::]"
   ]
  },
  {
   "cell_type": "code",
   "execution_count": 57,
   "metadata": {},
   "outputs": [
    {
     "data": {
      "text/plain": [
       "{'A': ['Amazing', 'Giant', 'Man'],\n",
       " 'B': ['Brilliant', 'Tiny', 'Moth'],\n",
       " 'C': ['Awesome', 'Shrinking', 'Goat'],\n",
       " 'D': ['Incredible', 'Magic', 'Princess'],\n",
       " 'E': ['Uncanny', 'Slimy', 'Girl'],\n",
       " 'F': ['Impossible', 'Flying', 'Machine'],\n",
       " 'G': ['Unbelievable', 'Angry', 'Cat'],\n",
       " 'H': ['Surprisingly', 'Crazy', 'Balloon'],\n",
       " 'I': ['Unexpected', 'Shiny', 'Ant'],\n",
       " 'J': ['Dastardly', 'Golden', 'Bee'],\n",
       " 'K': ['Evil', 'Sticky', 'Wolf'],\n",
       " 'L': ['Monstrous', 'Diamond', 'Bear'],\n",
       " 'M': ['Preposterous', 'Flaming', 'Lion'],\n",
       " 'N': ['Alarming', 'Psychic', 'Ball'],\n",
       " 'O': ['Insane', 'Silent', 'Ghost'],\n",
       " 'P': ['Terdlying', 'Screaming', 'Witch'],\n",
       " 'Q': ['Unthinkable', 'Jumping', 'Vampire'],\n",
       " 'R': ['Absurd', 'Crouching', 'Hand'],\n",
       " 'S': ['Improbable', 'Friendly', 'Foot'],\n",
       " 'T': ['Outlandish', 'Omnipotent', 'Tornado'],\n",
       " 'U': ['Questionable', 'Dripping', 'Fish'],\n",
       " 'V': ['Inconceivable', 'Strange', 'Dog'],\n",
       " 'W': ['Erotic', 'Hairy', 'Rock'],\n",
       " 'X': ['Unfathomable', 'Translucent', 'Nose'],\n",
       " 'Z': ['Unimaginable', 'Silver', 'Boy']}"
      ]
     },
     "execution_count": 57,
     "metadata": {},
     "output_type": "execute_result"
    }
   ],
   "source": [
    "diccionario_nombres_2"
   ]
  },
  {
   "cell_type": "code",
   "execution_count": 58,
   "metadata": {},
   "outputs": [
    {
     "name": "stdout",
     "output_type": "stream",
     "text": [
      "Dame tu nombre completo: Paz Cuellar Diaz\n",
      "nombre: Paz\n",
      "apellido paterno: Cuellar\n",
      "apellido materno: Diaz\n"
     ]
    }
   ],
   "source": [
    "nombre_completo_usuario = input(\"Dame tu nombre completo: \")\n",
    "nombre = nombre_completo_usuario.split(' ')[0]\n",
    "ap_paterno = nombre_completo_usuario.split(' ')[1]\n",
    "ap_materno = nombre_completo_usuario.split(' ')[2]\n",
    "print(\"nombre:\",nombre)\n",
    "print(\"apellido paterno:\",ap_paterno)\n",
    "print(\"apellido materno:\",ap_materno)"
   ]
  },
  {
   "cell_type": "code",
   "execution_count": 63,
   "metadata": {},
   "outputs": [
    {
     "name": "stdout",
     "output_type": "stream",
     "text": [
      "Hola Paz, tu nombre de súper héroe es: Terdlying Shrinking Princess\n"
     ]
    }
   ],
   "source": [
    "nombre_sh = diccionario_nombres_2[nombre[0]][0]\n",
    "nombre_sh += ' ' + diccionario_nombres_2[ap_paterno[0]][1]\n",
    "nombre_sh += ' ' + diccionario_nombres_2[ap_materno[0]][2]\n",
    "print(\"Hola {}, tu nombre de súper héroe es: {}\".format(nombre,nombre_sh))"
   ]
  },
  {
   "cell_type": "code",
   "execution_count": 64,
   "metadata": {},
   "outputs": [
    {
     "data": {
      "text/plain": [
       "'P'"
      ]
     },
     "execution_count": 64,
     "metadata": {},
     "output_type": "execute_result"
    }
   ],
   "source": [
    "nombre[0]"
   ]
  },
  {
   "cell_type": "code",
   "execution_count": 65,
   "metadata": {},
   "outputs": [
    {
     "data": {
      "text/plain": [
       "['Terdlying', 'Screaming', 'Witch']"
      ]
     },
     "execution_count": 65,
     "metadata": {},
     "output_type": "execute_result"
    }
   ],
   "source": [
    "diccionario_nombres_2[nombre[0]]"
   ]
  },
  {
   "cell_type": "code",
   "execution_count": 66,
   "metadata": {},
   "outputs": [
    {
     "data": {
      "text/plain": [
       "'Terdlying'"
      ]
     },
     "execution_count": 66,
     "metadata": {},
     "output_type": "execute_result"
    }
   ],
   "source": [
    "n = diccionario_nombres_2[nombre[0]][0]\n",
    "n"
   ]
  },
  {
   "cell_type": "code",
   "execution_count": 67,
   "metadata": {},
   "outputs": [
    {
     "data": {
      "text/plain": [
       "'Cuellar'"
      ]
     },
     "execution_count": 67,
     "metadata": {},
     "output_type": "execute_result"
    }
   ],
   "source": [
    "ap_paterno"
   ]
  },
  {
   "cell_type": "code",
   "execution_count": 68,
   "metadata": {},
   "outputs": [
    {
     "data": {
      "text/plain": [
       "'C'"
      ]
     },
     "execution_count": 68,
     "metadata": {},
     "output_type": "execute_result"
    }
   ],
   "source": [
    "ap_paterno[0]"
   ]
  },
  {
   "cell_type": "code",
   "execution_count": 70,
   "metadata": {},
   "outputs": [
    {
     "data": {
      "text/plain": [
       "'Shrinking'"
      ]
     },
     "execution_count": 70,
     "metadata": {},
     "output_type": "execute_result"
    }
   ],
   "source": [
    "diccionario_nombres_2[ap_paterno[0]][1]"
   ]
  },
  {
   "cell_type": "code",
   "execution_count": 71,
   "metadata": {},
   "outputs": [],
   "source": [
    "n += ' ' + diccionario_nombres_2[ap_paterno[0]][1]"
   ]
  },
  {
   "cell_type": "code",
   "execution_count": 72,
   "metadata": {},
   "outputs": [
    {
     "data": {
      "text/plain": [
       "'Terdlying Shrinking'"
      ]
     },
     "execution_count": 72,
     "metadata": {},
     "output_type": "execute_result"
    }
   ],
   "source": [
    "n"
   ]
  },
  {
   "cell_type": "code",
   "execution_count": 73,
   "metadata": {},
   "outputs": [
    {
     "data": {
      "text/plain": [
       "'Diaz'"
      ]
     },
     "execution_count": 73,
     "metadata": {},
     "output_type": "execute_result"
    }
   ],
   "source": [
    "ap_materno"
   ]
  },
  {
   "cell_type": "code",
   "execution_count": 74,
   "metadata": {},
   "outputs": [
    {
     "data": {
      "text/plain": [
       "'D'"
      ]
     },
     "execution_count": 74,
     "metadata": {},
     "output_type": "execute_result"
    }
   ],
   "source": [
    "ap_materno[0]"
   ]
  },
  {
   "cell_type": "code",
   "execution_count": 75,
   "metadata": {},
   "outputs": [
    {
     "data": {
      "text/plain": [
       "['Incredible', 'Magic', 'Princess']"
      ]
     },
     "execution_count": 75,
     "metadata": {},
     "output_type": "execute_result"
    }
   ],
   "source": [
    "diccionario_nombres_2[ap_materno[0]]"
   ]
  },
  {
   "cell_type": "code",
   "execution_count": 76,
   "metadata": {},
   "outputs": [
    {
     "data": {
      "text/plain": [
       "'Princess'"
      ]
     },
     "execution_count": 76,
     "metadata": {},
     "output_type": "execute_result"
    }
   ],
   "source": [
    "diccionario_nombres_2[ap_materno[0]][2]"
   ]
  },
  {
   "cell_type": "code",
   "execution_count": 77,
   "metadata": {},
   "outputs": [
    {
     "data": {
      "text/plain": [
       "'Terdlying Shrinking'"
      ]
     },
     "execution_count": 77,
     "metadata": {},
     "output_type": "execute_result"
    }
   ],
   "source": [
    "n"
   ]
  },
  {
   "cell_type": "code",
   "execution_count": 78,
   "metadata": {},
   "outputs": [],
   "source": [
    "n += ' ' + diccionario_nombres_2[ap_materno[0]][2]"
   ]
  },
  {
   "cell_type": "code",
   "execution_count": 79,
   "metadata": {},
   "outputs": [
    {
     "data": {
      "text/plain": [
       "'Terdlying Shrinking Princess'"
      ]
     },
     "execution_count": 79,
     "metadata": {},
     "output_type": "execute_result"
    }
   ],
   "source": [
    "n"
   ]
  },
  {
   "cell_type": "code",
   "execution_count": null,
   "metadata": {},
   "outputs": [],
   "source": []
  }
 ],
 "metadata": {
  "kernelspec": {
   "display_name": "Python 3",
   "language": "python",
   "name": "python3"
  },
  "language_info": {
   "codemirror_mode": {
    "name": "ipython",
    "version": 3
   },
   "file_extension": ".py",
   "mimetype": "text/x-python",
   "name": "python",
   "nbconvert_exporter": "python",
   "pygments_lexer": "ipython3",
   "version": "3.7.4"
  }
 },
 "nbformat": 4,
 "nbformat_minor": 2
}
