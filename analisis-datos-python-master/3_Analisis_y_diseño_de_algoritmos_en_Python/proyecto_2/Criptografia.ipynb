{
 "cells": [
  {
   "cell_type": "markdown",
   "metadata": {},
   "source": [
    "# Criptografía\n",
    "\n",
    "La criptografía es la ciencia que permite que exista la comunicación segura a través de códigos.\n",
    "\n",
    "En este ejercicio vamos a escribir un programa que permita encriptar y desencriptar mensajes\n",
    "\n",
    "\n",
    "---\n",
    "\n",
    "Un cipher de palabra clave (contraseña) es quizá el más simple que existe. Se forma de la siguiente manera:\n",
    "1. Escoger una palabra secreta\n",
    "~~~~\n",
    "    programacionpython\n",
    "~~~~\n",
    "2. Eliminar las letras repetidas\n",
    "~~~~\n",
    "    progamciythn\n",
    "~~~~\n",
    "3. Crear un nuevo alfabeto en el cual las  primeras letras se conforman por la palabra secreta y todas las demás por el resto del alfabeto **sin repetir las letras de la palabra secreta**.\n",
    "\n",
    "| A | B | C | D | E | F | G | H | I | J | K | L | M | N | Ñ | O | P | Q | R | S | T | U | V | W | X | Y | Z |\n",
    "|---|---|---|---|---|---|---|---|---|---|---|---|---|---|---|---|---|---|---|---|---|---|---|---|---|---|---|\n",
    "| P | R | O | G | A | M | C | I | Y | T | H | N | B | D | E | F | J | K | L | Ñ | Q | S | U | V | W | X | Z |\n",
    "\n",
    "4. Obtener el mensaje que queremos cifrar\n",
    "~~~~\n",
    "    ESTE MENSAJE ES SECRETO JIJI\n",
    "~~~~\n",
    "\n",
    "5. Mapear cada letra del mensaje al nuevo alfabeto cifrado\n",
    "~~~~\n",
    "    AÑQA BADÑPTA AÑ ÑAOLAQF TYTY\n",
    "~~~~\n",
    "\n",
    "6. Una vez que logres encriptar un mensaje, deberás programar la rutina que permita desencriptar un mensaje secreto proporcionando la llave secreta y el texto del mensaje"
   ]
  },
  {
   "cell_type": "markdown",
   "metadata": {},
   "source": [
    "---\n",
    "\n",
    "# Solución\n",
    "\n",
    "### 1. Pedir palabra secreta"
   ]
  },
  {
   "cell_type": "code",
   "execution_count": 6,
   "metadata": {},
   "outputs": [
    {
     "name": "stdout",
     "output_type": "stream",
     "text": [
      "Palabra secreta: programacionpython\n"
     ]
    }
   ],
   "source": [
    "palabra_secreta = input(\"Palabra secreta: \")"
   ]
  },
  {
   "cell_type": "code",
   "execution_count": 7,
   "metadata": {},
   "outputs": [
    {
     "data": {
      "text/plain": [
       "'programacionpython'"
      ]
     },
     "execution_count": 7,
     "metadata": {},
     "output_type": "execute_result"
    }
   ],
   "source": [
    "palabra_secreta"
   ]
  },
  {
   "cell_type": "markdown",
   "metadata": {},
   "source": [
    "### 2. Eliminar letras repetidas"
   ]
  },
  {
   "cell_type": "code",
   "execution_count": 8,
   "metadata": {},
   "outputs": [],
   "source": [
    "key = ''\n",
    "for letra in palabra_secreta:\n",
    "    if letra not in key:\n",
    "        key += letra"
   ]
  },
  {
   "cell_type": "code",
   "execution_count": 9,
   "metadata": {},
   "outputs": [
    {
     "data": {
      "text/plain": [
       "'PROGAMCINYTH'"
      ]
     },
     "execution_count": 9,
     "metadata": {},
     "output_type": "execute_result"
    }
   ],
   "source": [
    "key = key.upper()\n",
    "key"
   ]
  },
  {
   "cell_type": "code",
   "execution_count": 10,
   "metadata": {},
   "outputs": [
    {
     "data": {
      "text/plain": [
       "['A',\n",
       " 'B',\n",
       " 'C',\n",
       " 'D',\n",
       " 'E',\n",
       " 'F',\n",
       " 'G',\n",
       " 'H',\n",
       " 'I',\n",
       " 'J',\n",
       " 'K',\n",
       " 'L',\n",
       " 'M',\n",
       " 'N',\n",
       " 'Ñ',\n",
       " 'O',\n",
       " 'P',\n",
       " 'Q',\n",
       " 'R',\n",
       " 'S',\n",
       " 'T',\n",
       " 'U',\n",
       " 'V',\n",
       " 'W',\n",
       " 'X',\n",
       " 'Y',\n",
       " 'Z']"
      ]
     },
     "execution_count": 10,
     "metadata": {},
     "output_type": "execute_result"
    }
   ],
   "source": [
    "alfabeto_real = list('ABCDEFGHIJKLMNÑOPQRSTUVWXYZ')\n",
    "alfabeto_real"
   ]
  },
  {
   "cell_type": "code",
   "execution_count": 11,
   "metadata": {},
   "outputs": [],
   "source": [
    "alfabeto_secreto = list(key)"
   ]
  },
  {
   "cell_type": "code",
   "execution_count": 12,
   "metadata": {},
   "outputs": [
    {
     "data": {
      "text/plain": [
       "['P', 'R', 'O', 'G', 'A', 'M', 'C', 'I', 'N', 'Y', 'T', 'H']"
      ]
     },
     "execution_count": 12,
     "metadata": {},
     "output_type": "execute_result"
    }
   ],
   "source": [
    "alfabeto_secreto"
   ]
  },
  {
   "cell_type": "code",
   "execution_count": 13,
   "metadata": {},
   "outputs": [],
   "source": [
    "for letra in alfabeto_real:\n",
    "    if letra not in alfabeto_secreto:\n",
    "        alfabeto_secreto.append(letra)"
   ]
  },
  {
   "cell_type": "code",
   "execution_count": 14,
   "metadata": {},
   "outputs": [],
   "source": [
    "cipher = {}\n",
    "indice = 0\n",
    "for letra in alfabeto_real:\n",
    "    # primera iteracion\n",
    "    # letra = 'A'\n",
    "    # cipher['A'] =  alfabeto_secreto[0] => 'P'\n",
    "    cipher[letra] = alfabeto_secreto[indice]\n",
    "    indice += 1"
   ]
  },
  {
   "cell_type": "code",
   "execution_count": 15,
   "metadata": {},
   "outputs": [
    {
     "data": {
      "text/plain": [
       "{'A': 'P',\n",
       " 'B': 'R',\n",
       " 'C': 'O',\n",
       " 'D': 'G',\n",
       " 'E': 'A',\n",
       " 'F': 'M',\n",
       " 'G': 'C',\n",
       " 'H': 'I',\n",
       " 'I': 'N',\n",
       " 'J': 'Y',\n",
       " 'K': 'T',\n",
       " 'L': 'H',\n",
       " 'M': 'B',\n",
       " 'N': 'D',\n",
       " 'Ñ': 'E',\n",
       " 'O': 'F',\n",
       " 'P': 'J',\n",
       " 'Q': 'K',\n",
       " 'R': 'L',\n",
       " 'S': 'Ñ',\n",
       " 'T': 'Q',\n",
       " 'U': 'S',\n",
       " 'V': 'U',\n",
       " 'W': 'V',\n",
       " 'X': 'W',\n",
       " 'Y': 'X',\n",
       " 'Z': 'Z'}"
      ]
     },
     "execution_count": 15,
     "metadata": {},
     "output_type": "execute_result"
    }
   ],
   "source": [
    "cipher"
   ]
  },
  {
   "cell_type": "code",
   "execution_count": 20,
   "metadata": {},
   "outputs": [
    {
     "name": "stdout",
     "output_type": "stream",
     "text": [
      "Escribe tu mensaje para que lo encripte: ME ENCANTA PROGRAMAR CON GERARDO\n"
     ]
    }
   ],
   "source": [
    "mensaje = input(\"Escribe tu mensaje para que lo encripte: \").upper()"
   ]
  },
  {
   "cell_type": "code",
   "execution_count": 21,
   "metadata": {},
   "outputs": [
    {
     "data": {
      "text/plain": [
       "'ME ENCANTA PROGRAMAR CON GERARDO'"
      ]
     },
     "execution_count": 21,
     "metadata": {},
     "output_type": "execute_result"
    }
   ],
   "source": [
    "mensaje"
   ]
  },
  {
   "cell_type": "code",
   "execution_count": 22,
   "metadata": {},
   "outputs": [],
   "source": [
    "mensaje_encriptado = ''\n",
    "for letra in mensaje:\n",
    "    if letra == ' ':\n",
    "        mensaje_encriptado += ' '\n",
    "    else:\n",
    "        mensaje_encriptado += cipher[letra]"
   ]
  },
  {
   "cell_type": "code",
   "execution_count": 23,
   "metadata": {},
   "outputs": [
    {
     "data": {
      "text/plain": [
       "'BA ADOPDQP JLFCLPBPL OFD CALPLGF'"
      ]
     },
     "execution_count": 23,
     "metadata": {},
     "output_type": "execute_result"
    }
   ],
   "source": [
    "mensaje_encriptado"
   ]
  },
  {
   "cell_type": "code",
   "execution_count": 24,
   "metadata": {},
   "outputs": [],
   "source": [
    "def encriptar_mensaje(mensaje):\n",
    "    mensaje_encriptado = ''\n",
    "    for letra in mensaje:\n",
    "        if letra == ' ':\n",
    "            mensaje_encriptado += ' '\n",
    "        else:\n",
    "            mensaje_encriptado += cipher[letra]\n",
    "    return mensaje_encriptado"
   ]
  },
  {
   "cell_type": "code",
   "execution_count": 25,
   "metadata": {},
   "outputs": [],
   "source": [
    "mensaje1 = 'PAZ NO ME CAE MUY BIEN'\n",
    "mensaje2 = 'KARLA TAMPOCO'\n",
    "mensaje3 = 'VAMOS A PROGRAMAR MAÑANA'"
   ]
  },
  {
   "cell_type": "code",
   "execution_count": 26,
   "metadata": {},
   "outputs": [
    {
     "name": "stdout",
     "output_type": "stream",
     "text": [
      "JPZ DF BA OPA BSX RNAD\n",
      "TPLHP QPBJFOF\n",
      "UPBFÑ P JLFCLPBPL BPEPDP\n"
     ]
    }
   ],
   "source": [
    "print(encriptar_mensaje(mensaje1))\n",
    "print(encriptar_mensaje(mensaje2))\n",
    "print(encriptar_mensaje(mensaje3))"
   ]
  },
  {
   "cell_type": "code",
   "execution_count": 27,
   "metadata": {},
   "outputs": [
    {
     "data": {
      "text/plain": [
       "'PAZ NO ME CAE MUY BIEN'"
      ]
     },
     "execution_count": 27,
     "metadata": {},
     "output_type": "execute_result"
    }
   ],
   "source": [
    "mensaje1"
   ]
  },
  {
   "cell_type": "code",
   "execution_count": 28,
   "metadata": {},
   "outputs": [],
   "source": [
    "mensaje1_encriptado = encriptar_mensaje(mensaje1)"
   ]
  },
  {
   "cell_type": "code",
   "execution_count": 29,
   "metadata": {},
   "outputs": [
    {
     "data": {
      "text/plain": [
       "'JPZ DF BA OPA BSX RNAD'"
      ]
     },
     "execution_count": 29,
     "metadata": {},
     "output_type": "execute_result"
    }
   ],
   "source": [
    "mensaje1_encriptado"
   ]
  },
  {
   "cell_type": "code",
   "execution_count": 30,
   "metadata": {},
   "outputs": [],
   "source": [
    "cipher_inverso = {}"
   ]
  },
  {
   "cell_type": "code",
   "execution_count": 33,
   "metadata": {},
   "outputs": [],
   "source": [
    "for key in cipher:\n",
    "    cipher_inverso[cipher[key]] = key"
   ]
  },
  {
   "cell_type": "code",
   "execution_count": 37,
   "metadata": {},
   "outputs": [],
   "source": [
    "def desencriptar(mensaje_encriptado):\n",
    "    mensaje_desencriptado = ''\n",
    "    for letra in mensaje_encriptado:\n",
    "        if letra == ' ':\n",
    "            mensaje_desencriptado += ' '\n",
    "        else:\n",
    "            mensaje_desencriptado += cipher_inverso[letra]\n",
    "    return mensaje_desencriptado"
   ]
  },
  {
   "cell_type": "code",
   "execution_count": 38,
   "metadata": {},
   "outputs": [
    {
     "data": {
      "text/plain": [
       "'PAZ NO ME CAE MUY BIEN'"
      ]
     },
     "execution_count": 38,
     "metadata": {},
     "output_type": "execute_result"
    }
   ],
   "source": [
    "mensaje1"
   ]
  },
  {
   "cell_type": "code",
   "execution_count": 39,
   "metadata": {},
   "outputs": [
    {
     "data": {
      "text/plain": [
       "'JPZ DF BA OPA BSX RNAD'"
      ]
     },
     "execution_count": 39,
     "metadata": {},
     "output_type": "execute_result"
    }
   ],
   "source": [
    "mensaje1_encriptado"
   ]
  },
  {
   "cell_type": "code",
   "execution_count": 40,
   "metadata": {},
   "outputs": [
    {
     "data": {
      "text/plain": [
       "'PAZ NO ME CAE MUY BIEN'"
      ]
     },
     "execution_count": 40,
     "metadata": {},
     "output_type": "execute_result"
    }
   ],
   "source": [
    "desencriptar(mensaje1_encriptado)"
   ]
  },
  {
   "cell_type": "code",
   "execution_count": 41,
   "metadata": {},
   "outputs": [],
   "source": [
    "mens = encriptar_mensaje('KARLA ME ESTA ROBANDO MI AGUA')"
   ]
  },
  {
   "cell_type": "code",
   "execution_count": 42,
   "metadata": {},
   "outputs": [
    {
     "data": {
      "text/plain": [
       "'TPLHP BA AÑQP LFRPDGF BN PCSP'"
      ]
     },
     "execution_count": 42,
     "metadata": {},
     "output_type": "execute_result"
    }
   ],
   "source": [
    "mens"
   ]
  },
  {
   "cell_type": "code",
   "execution_count": 43,
   "metadata": {},
   "outputs": [
    {
     "data": {
      "text/plain": [
       "'KARLA ME ESTA ROBANDO MI AGUA'"
      ]
     },
     "execution_count": 43,
     "metadata": {},
     "output_type": "execute_result"
    }
   ],
   "source": [
    "desencriptar('TPLHP BA AÑQP LFRPDGF BN PCSP')"
   ]
  },
  {
   "cell_type": "code",
   "execution_count": null,
   "metadata": {},
   "outputs": [],
   "source": []
  }
 ],
 "metadata": {
  "kernelspec": {
   "display_name": "Python 3",
   "language": "python",
   "name": "python3"
  },
  "language_info": {
   "codemirror_mode": {
    "name": "ipython",
    "version": 3
   },
   "file_extension": ".py",
   "mimetype": "text/x-python",
   "name": "python",
   "nbconvert_exporter": "python",
   "pygments_lexer": "ipython3",
   "version": "3.7.4"
  }
 },
 "nbformat": 4,
 "nbformat_minor": 2
}
